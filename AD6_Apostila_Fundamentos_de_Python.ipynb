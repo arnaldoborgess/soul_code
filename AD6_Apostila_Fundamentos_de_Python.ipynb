{
  "nbformat": 4,
  "nbformat_minor": 0,
  "metadata": {
    "colab": {
      "provenance": [],
      "toc_visible": true,
      "include_colab_link": true
    },
    "kernelspec": {
      "name": "python3",
      "display_name": "Python 3"
    },
    "language_info": {
      "name": "python"
    }
  },
  "cells": [
    {
      "cell_type": "markdown",
      "metadata": {
        "id": "view-in-github",
        "colab_type": "text"
      },
      "source": [
        "<a href=\"https://colab.research.google.com/github/arnaldoborgess/soul_code/blob/main/AD6_Apostila_Fundamentos_de_Python.ipynb\" target=\"_parent\"><img src=\"https://colab.research.google.com/assets/colab-badge.svg\" alt=\"Open In Colab\"/></a>"
      ]
    },
    {
      "cell_type": "markdown",
      "source": [
        "# 1 - Variáveis e tipos de dados em Python"
      ],
      "metadata": {
        "id": "QEgob3nUtMz3"
      }
    },
    {
      "cell_type": "markdown",
      "source": [
        "## 1.1 - Variáveis"
      ],
      "metadata": {
        "id": "N4yykEnRwpjE"
      }
    },
    {
      "cell_type": "code",
      "execution_count": null,
      "metadata": {
        "colab": {
          "base_uri": "https://localhost:8080/"
        },
        "id": "M5JD3IgVrRRO",
        "outputId": "3f805b1a-d92a-4d30-cce5-5dbee7e7ee5e"
      },
      "outputs": [
        {
          "output_type": "stream",
          "name": "stdout",
          "text": [
            "Douglas\n",
            "<class 'str'>\n",
            "48\n",
            "<class 'int'>\n",
            "1.85\n",
            "<class 'float'>\n"
          ]
        }
      ],
      "source": [
        "'''\n",
        "Em Python, variáveis são utilizadas para armazenar valores na memória do\n",
        "computador. Para criar uma variável, você precisa usar um nome e um valor.\n",
        "O nome da variável deve seguir as regras de nomenclatura do Python:\n",
        "\n",
        "Deve começar com uma letra ou sublinhado (_).\n",
        "Pode conter letras, números e sublinhados.\n",
        "Não pode ser uma palavra-chave reservada do Python.\n",
        "Para atribuir um valor a uma variável, utilize o operador de atribuição (=).\n",
        "Exemplo:\n",
        "'''\n",
        "nome = 'Douglas'\n",
        "print(nome)\n",
        "print(type(nome))\n",
        "idade = 48\n",
        "print(idade)\n",
        "print(type(idade))\n",
        "altura = 1.85\n",
        "print(altura)\n",
        "print(type(altura))"
      ]
    },
    {
      "cell_type": "markdown",
      "source": [
        "## 1.2 - Tipos de dados"
      ],
      "metadata": {
        "id": "eJWlRXpkwn_E"
      }
    },
    {
      "cell_type": "code",
      "source": [
        "'''\n",
        "Tipos de Dados:\n",
        "\n",
        "Cada variável em Python possui um tipo de dado, que define o tipo de valor que\n",
        "ela pode armazenar. Os tipos de dados mais comuns em Python são:\n",
        "\n",
        "Inteiro (int): Números inteiros, como 1, 2, 3, etc.\n",
        "Ponto flutuante (float): Números com casas decimais, como 1.5, 2.75, 3.14, etc.\n",
        "String (str): Textos, como \"Olá, mundo!\", \"Python é legal\", etc.\n",
        "Booleano (bool): Valores True ou False.\n",
        "Conversão de Tipos:\n",
        "\n",
        "É possível converter um tipo de dado para outro usando funções específicas.\n",
        "Exemplo:\n",
        "'''\n",
        "nome = 'Douglas'\n",
        "print(type(nome))\n",
        "numero_inteiro = 10\n",
        "print(type(numero_inteiro))\n",
        "numero_float = float(numero_inteiro)  # Converte um inteiro para um float\n",
        "print(type(numero_float))"
      ],
      "metadata": {
        "colab": {
          "base_uri": "https://localhost:8080/"
        },
        "id": "FucRWQAOwlwk",
        "outputId": "b00c85bf-7ce4-4aac-b66e-9089899fdc62"
      },
      "execution_count": null,
      "outputs": [
        {
          "output_type": "stream",
          "name": "stdout",
          "text": [
            "<class 'str'>\n",
            "<class 'int'>\n",
            "<class 'float'>\n"
          ]
        }
      ]
    },
    {
      "cell_type": "markdown",
      "source": [
        "# 2 - Operadores Python"
      ],
      "metadata": {
        "id": "n2h-kR0TzAky"
      }
    },
    {
      "cell_type": "markdown",
      "source": [
        "## 2.1 - Operadores Matemáticos"
      ],
      "metadata": {
        "id": "owbqbLcwzEsE"
      }
    },
    {
      "cell_type": "code",
      "source": [
        "'''\n",
        "Os operadores aritméticos em Python permitem realizar operações matemáticas\n",
        "básicas, como adição, subtração, multiplicação, divisão e exponenciação. São\n",
        "ferramentas essenciais para qualquer programador Python, desde iniciantes até\n",
        "experientes.\n",
        "'''"
      ],
      "metadata": {
        "id": "2XjavkXIzJoc"
      },
      "execution_count": null,
      "outputs": []
    },
    {
      "cell_type": "code",
      "source": [
        "# Soma (+)\n",
        "soma = 5 + 2\n",
        "print(soma)"
      ],
      "metadata": {
        "colab": {
          "base_uri": "https://localhost:8080/"
        },
        "id": "Ci4e2lRyzTSh",
        "outputId": "c2712f0a-b4cb-4a2d-d42a-1a280ccb7799"
      },
      "execution_count": null,
      "outputs": [
        {
          "output_type": "stream",
          "name": "stdout",
          "text": [
            "7\n"
          ]
        }
      ]
    },
    {
      "cell_type": "code",
      "source": [
        "# Subtração (-)\n",
        "menos = 5 - 2\n",
        "print(menos)"
      ],
      "metadata": {
        "colab": {
          "base_uri": "https://localhost:8080/"
        },
        "id": "8kbpYX7u0F2B",
        "outputId": "93ef91f7-4faa-4412-ad92-9193a2e5de42"
      },
      "execution_count": null,
      "outputs": [
        {
          "output_type": "stream",
          "name": "stdout",
          "text": [
            "3\n"
          ]
        }
      ]
    },
    {
      "cell_type": "code",
      "source": [
        "# Multiplicação (*)\n",
        "vezes = 5 * 2\n",
        "print(vezes)"
      ],
      "metadata": {
        "colab": {
          "base_uri": "https://localhost:8080/"
        },
        "id": "vrlA42V60PYx",
        "outputId": "c69c3843-9e81-455a-8f9c-82715f2cb76f"
      },
      "execution_count": null,
      "outputs": [
        {
          "output_type": "stream",
          "name": "stdout",
          "text": [
            "10\n"
          ]
        }
      ]
    },
    {
      "cell_type": "code",
      "source": [
        "# Divisão (/)\n",
        "dividir = 5 / 2\n",
        "print(dividir)"
      ],
      "metadata": {
        "colab": {
          "base_uri": "https://localhost:8080/"
        },
        "id": "0khcyddJ1_ld",
        "outputId": "188d9486-0da7-4772-fff0-7b15b3c0bd10"
      },
      "execution_count": null,
      "outputs": [
        {
          "output_type": "stream",
          "name": "stdout",
          "text": [
            "2.5\n"
          ]
        }
      ]
    },
    {
      "cell_type": "code",
      "source": [
        "# Parte Inteira da divisão (//)\n",
        "inteiro = 5 // 2\n",
        "print(inteiro)"
      ],
      "metadata": {
        "colab": {
          "base_uri": "https://localhost:8080/"
        },
        "id": "1jYy3XxC2Kl-",
        "outputId": "3f471e59-aaf1-4fc3-b3cf-5f91ee3b42cb"
      },
      "execution_count": null,
      "outputs": [
        {
          "output_type": "stream",
          "name": "stdout",
          "text": [
            "2\n"
          ]
        }
      ]
    },
    {
      "cell_type": "code",
      "source": [
        "# Resto da divisão (%)\n",
        "resto = 5 % 2\n",
        "print(resto)"
      ],
      "metadata": {
        "colab": {
          "base_uri": "https://localhost:8080/"
        },
        "id": "Gwj6h1lQ2Yu7",
        "outputId": "00100339-216a-46d0-da52-02dea0a03dfd"
      },
      "execution_count": null,
      "outputs": [
        {
          "output_type": "stream",
          "name": "stdout",
          "text": [
            "1\n"
          ]
        }
      ]
    },
    {
      "cell_type": "code",
      "source": [
        "# Exponenciação (**)\n",
        "elevado = 5 ** 2\n",
        "print(elevado)"
      ],
      "metadata": {
        "colab": {
          "base_uri": "https://localhost:8080/"
        },
        "id": "R7nz0ZIz2oSd",
        "outputId": "48f80c44-1e0b-4f7d-959d-d3042ec02ccc"
      },
      "execution_count": null,
      "outputs": [
        {
          "output_type": "stream",
          "name": "stdout",
          "text": [
            "25\n"
          ]
        }
      ]
    },
    {
      "cell_type": "markdown",
      "source": [
        "## 2.2 - Operadores de Comparação"
      ],
      "metadata": {
        "id": "OZYLxvaL6QMq"
      }
    },
    {
      "cell_type": "code",
      "source": [
        "'''\n",
        "Os operadores de comparação em Python permitem verificar se duas expressões são\n",
        "iguais, diferentes, maiores, menores, etc. São ferramentas essenciais para tomar\n",
        "decisões e realizar comparações em seus programas. Retornam com resultado\n",
        "verdadeiro (True) ou Falso (False) (tipo bool)\n",
        "'''"
      ],
      "metadata": {
        "id": "6AvFjdmS6aJt"
      },
      "execution_count": null,
      "outputs": []
    },
    {
      "cell_type": "code",
      "source": [
        "# Operador de Igualdade (==)\n",
        "igualdade = 3 == 4\n",
        "print(igualdade)"
      ],
      "metadata": {
        "colab": {
          "base_uri": "https://localhost:8080/"
        },
        "id": "hwyeD6YW6rjS",
        "outputId": "949595ec-cc32-4790-fb2e-de6d8c398fb6"
      },
      "execution_count": null,
      "outputs": [
        {
          "output_type": "stream",
          "name": "stdout",
          "text": [
            "False\n"
          ]
        }
      ]
    },
    {
      "cell_type": "code",
      "source": [
        "# Operador de Diferença (!=)\n",
        "diferente = 3 != 4\n",
        "print(diferente)"
      ],
      "metadata": {
        "colab": {
          "base_uri": "https://localhost:8080/"
        },
        "id": "M43inBmu7SBP",
        "outputId": "b77a42bb-c6be-498e-9646-c4a23b914bf9"
      },
      "execution_count": null,
      "outputs": [
        {
          "output_type": "stream",
          "name": "stdout",
          "text": [
            "True\n"
          ]
        }
      ]
    },
    {
      "cell_type": "code",
      "source": [
        "# Operador maior que (>)\n",
        "maior = 3 > 4\n",
        "print(maior)"
      ],
      "metadata": {
        "colab": {
          "base_uri": "https://localhost:8080/"
        },
        "id": "BLc1w4Bu72Pc",
        "outputId": "2e637340-daa3-43e0-ec4b-c4a086b67147"
      },
      "execution_count": null,
      "outputs": [
        {
          "output_type": "stream",
          "name": "stdout",
          "text": [
            "False\n"
          ]
        }
      ]
    },
    {
      "cell_type": "code",
      "source": [
        "# Operador menor que (<)\n",
        "menor = 3 < 4\n",
        "print(menor)"
      ],
      "metadata": {
        "colab": {
          "base_uri": "https://localhost:8080/"
        },
        "id": "LEAWxSOA8Jg3",
        "outputId": "2c1a2c8a-bdeb-4290-cbd6-652bfd677950"
      },
      "execution_count": null,
      "outputs": [
        {
          "output_type": "stream",
          "name": "stdout",
          "text": [
            "True\n"
          ]
        }
      ]
    },
    {
      "cell_type": "code",
      "source": [
        "# Operador maior ou igual a (>=)\n",
        "maior_igual = 3 >= 4\n",
        "print(maior_igual)"
      ],
      "metadata": {
        "colab": {
          "base_uri": "https://localhost:8080/"
        },
        "id": "J-0OjBrf8Xit",
        "outputId": "ff29b567-1900-42e7-c857-9d120bdb18db"
      },
      "execution_count": null,
      "outputs": [
        {
          "output_type": "stream",
          "name": "stdout",
          "text": [
            "False\n"
          ]
        }
      ]
    },
    {
      "cell_type": "code",
      "source": [
        "# Operador menor ou igual a (<=)\n",
        "menor_igual = 3 <= 4\n",
        "print(menor_igual)"
      ],
      "metadata": {
        "colab": {
          "base_uri": "https://localhost:8080/"
        },
        "id": "iCQtQldc9Lv4",
        "outputId": "913cd461-04f8-453f-db35-952263baaa67"
      },
      "execution_count": null,
      "outputs": [
        {
          "output_type": "stream",
          "name": "stdout",
          "text": [
            "True\n"
          ]
        }
      ]
    },
    {
      "cell_type": "code",
      "source": [
        "# Operador de identidade (is)\n",
        "a = 7\n",
        "b = 7.0\n",
        "print(a is b)\n",
        "print(a == b)"
      ],
      "metadata": {
        "colab": {
          "base_uri": "https://localhost:8080/"
        },
        "id": "E0pZkpnk-B-M",
        "outputId": "8df2fee9-302d-4f66-a429-b2391a03f128"
      },
      "execution_count": null,
      "outputs": [
        {
          "output_type": "stream",
          "name": "stdout",
          "text": [
            "False\n",
            "True\n"
          ]
        }
      ]
    },
    {
      "cell_type": "code",
      "source": [
        "# Operador de identidade (is not)\n",
        "a = 7\n",
        "b = 7.0\n",
        "print(a is not b)\n",
        "print(a != b)"
      ],
      "metadata": {
        "id": "wnDpQpiS-FeU"
      },
      "execution_count": null,
      "outputs": []
    },
    {
      "cell_type": "markdown",
      "source": [
        "## 2.3 Operadores de Associação"
      ],
      "metadata": {
        "id": "fJeh5qfd_5QS"
      }
    },
    {
      "cell_type": "code",
      "source": [
        "'''\n",
        "Os operadores de associação in e not in em Python permitem verificar se um\n",
        "elemento está presente ou não em uma coleção, como listas, tuplas, dicionários e\n",
        "strings. São ferramentas úteis para filtrar dados e realizar comparações em seus\n",
        "programas. Assim como os aoperadores de comparação eles retornam\n",
        "Verdadeiro (True) ou Falso (False)\n",
        "'''"
      ],
      "metadata": {
        "id": "wfWdqtjx__re"
      },
      "execution_count": null,
      "outputs": []
    },
    {
      "cell_type": "code",
      "source": [
        "# Operador in\n",
        "nome = 'Douglas'\n",
        "print('D' in nome)"
      ],
      "metadata": {
        "colab": {
          "base_uri": "https://localhost:8080/"
        },
        "id": "jkj9EzDuABm-",
        "outputId": "8886fea4-11a0-4325-a3f0-f16c871e5410"
      },
      "execution_count": null,
      "outputs": [
        {
          "output_type": "stream",
          "name": "stdout",
          "text": [
            "True\n"
          ]
        }
      ]
    },
    {
      "cell_type": "code",
      "source": [
        "# Operador not in\n",
        "nome = 'Douglas'\n",
        "print('D' not in nome)"
      ],
      "metadata": {
        "colab": {
          "base_uri": "https://localhost:8080/"
        },
        "id": "7tE402U8AC-7",
        "outputId": "f4a8f1de-9204-49a1-dcc4-e19c33b02c82"
      },
      "execution_count": null,
      "outputs": [
        {
          "output_type": "stream",
          "name": "stdout",
          "text": [
            "False\n"
          ]
        }
      ]
    },
    {
      "cell_type": "markdown",
      "source": [
        "## 2.4 - Operadores Lógicos (AND, OR e NOT)"
      ],
      "metadata": {
        "id": "pd11WFzrF1_k"
      }
    },
    {
      "cell_type": "code",
      "source": [
        "'''\n",
        "Os operadores lógicos em Python permitem combinar expressões booleanas\n",
        "(True ou False) para formar novas expressões booleanas. São ferramentas\n",
        "essenciais para tomar decisões e realizar comparações complexas em seus\n",
        "programas. São eles:\n",
        "\n",
        "E (and): Retorna True se ambas as expressões forem True.\n",
        "Exemplo: x > 0 and y < 10.\n",
        "\n",
        "Ou (or): Retorna True se pelo menos uma das expressões for True.\n",
        "Exemplo: x == 0 or y == 10.\n",
        "\n",
        "Não (not): Inverte o valor da expressão.\n",
        "Exemplo: not (x > 0).\n",
        "'''"
      ],
      "metadata": {
        "id": "waZeftCUF017"
      },
      "execution_count": null,
      "outputs": []
    },
    {
      "cell_type": "code",
      "source": [
        "# Operador AND retorna verdadeiro se todas as condições forem verdadeiras\n",
        "a = 3\n",
        "b = 4\n",
        "c = 5\n",
        "print(a < b and b < c)\n",
        "print(a < b and b > c)"
      ],
      "metadata": {
        "colab": {
          "base_uri": "https://localhost:8080/"
        },
        "id": "-gq8GSXVGPtW",
        "outputId": "0d1855b1-e457-48aa-9b4f-bd17838321f5"
      },
      "execution_count": null,
      "outputs": [
        {
          "output_type": "stream",
          "name": "stdout",
          "text": [
            "True\n",
            "False\n"
          ]
        }
      ]
    },
    {
      "cell_type": "code",
      "source": [
        "# Operador OR retorna verdadeiro se pelo menos uma das condições for verdadeira\n",
        "a = 3\n",
        "b = 4\n",
        "c = 5\n",
        "print(a < b or b < c) # verdadeiro\n",
        "print(a < b or b > c) # verdadiro\n",
        "print(a > b or a > c) # Falso"
      ],
      "metadata": {
        "colab": {
          "base_uri": "https://localhost:8080/"
        },
        "id": "g-e8fLwWJipr",
        "outputId": "09a1a856-3dfd-4a13-f993-09d5b9f03e9a"
      },
      "execution_count": null,
      "outputs": [
        {
          "output_type": "stream",
          "name": "stdout",
          "text": [
            "True\n",
            "True\n",
            "False\n"
          ]
        }
      ]
    },
    {
      "cell_type": "code",
      "source": [
        "# Operador not (inverte o resulta de verdadeiro para falso e de falso para verdadeiro)\n",
        "a = 3\n",
        "b = 4\n",
        "c = 5\n",
        "print(not(a > b))\n",
        "print(not(a < b))"
      ],
      "metadata": {
        "colab": {
          "base_uri": "https://localhost:8080/"
        },
        "id": "gwT5moD-KLO2",
        "outputId": "2728a94e-9fa2-4d47-ab32-73185a834eae"
      },
      "execution_count": null,
      "outputs": [
        {
          "output_type": "stream",
          "name": "stdout",
          "text": [
            "True\n",
            "False\n"
          ]
        }
      ]
    },
    {
      "cell_type": "markdown",
      "source": [
        "# 3 - Strings"
      ],
      "metadata": {
        "id": "OVcHgds0KpIQ"
      }
    },
    {
      "cell_type": "markdown",
      "source": [
        "## 3.1 - Formatação de Strings (f-strings)"
      ],
      "metadata": {
        "id": "JK03JEKkKsuk"
      }
    },
    {
      "cell_type": "code",
      "source": [
        "'''\n",
        "As f-strings em Python são uma maneira concisa e elegante de formatar strings.\n",
        "Elas permitem incorporar expressões Python diretamente dentro de strings,\n",
        "tornando o código mais legível e fácil de manter.\n",
        "\n",
        "Como usar f-strings:\n",
        "\n",
        "Para usar f-strings, basta prefixar uma string literal com a letra \"f\".\n",
        "Dentro da string, você pode usar expressões Python entre chaves \"{}\":\n",
        "'''"
      ],
      "metadata": {
        "id": "ek6nH8PQKz-E"
      },
      "execution_count": null,
      "outputs": []
    },
    {
      "cell_type": "code",
      "source": [
        "cliente = 'Douglas'\n",
        "idade = 48\n",
        "print(f'O nome do cliente é {cliente}, e ele tem {idade} anos de idade.')"
      ],
      "metadata": {
        "colab": {
          "base_uri": "https://localhost:8080/"
        },
        "id": "S1a9UW5vLEnT",
        "outputId": "516f3188-dfd5-4f57-f31f-1ba5149b8972"
      },
      "execution_count": null,
      "outputs": [
        {
          "output_type": "stream",
          "name": "stdout",
          "text": [
            "O nome do cliente é Douglas, e ele tem 48 anos de idade.\n"
          ]
        }
      ]
    },
    {
      "cell_type": "code",
      "source": [
        "taxa = 2/3\n",
        "print(taxa)\n",
        "print(f'O resultado da taxa é aproximadamente {taxa:.2f}')"
      ],
      "metadata": {
        "colab": {
          "base_uri": "https://localhost:8080/"
        },
        "id": "K-l_m3JGMcic",
        "outputId": "5a396d32-3d94-4745-acfe-f197539d9474"
      },
      "execution_count": null,
      "outputs": [
        {
          "output_type": "stream",
          "name": "stdout",
          "text": [
            "0.6666666666666666\n",
            "O resultado da taxa é aproximadamente 0.67\n"
          ]
        }
      ]
    },
    {
      "cell_type": "markdown",
      "source": [
        "## 3.2 - Entrada definida pelo usuário (função input)"
      ],
      "metadata": {
        "id": "D_sq_R_yNlKh"
      }
    },
    {
      "cell_type": "code",
      "source": [
        "'''\n",
        "A função input() em Python permite que você obtenha entrada do usuário durante a\n",
        "execução do programa. É uma ferramenta essencial para interagir com o usuário e\n",
        "coletar dados para processamento.\n",
        "\n",
        "Como usar a função input():\n",
        "\n",
        "A função input() é simples de usar. Basta fornecer uma mensagem entre parênteses\n",
        "para instruir o usuário sobre o que digitar:\n",
        "'''"
      ],
      "metadata": {
        "id": "0WgB33zeOO1U"
      },
      "execution_count": null,
      "outputs": []
    },
    {
      "cell_type": "code",
      "source": [
        "nome = input('Informe seu primeiro nome: ')\n",
        "print(f'Olá, {nome}!')"
      ],
      "metadata": {
        "colab": {
          "base_uri": "https://localhost:8080/"
        },
        "id": "Y7D5WjEGOaD2",
        "outputId": "9ddd566f-e574-47aa-cd91-8c2c44ec4916"
      },
      "execution_count": null,
      "outputs": [
        {
          "output_type": "stream",
          "name": "stdout",
          "text": [
            "Informe seu primeiro nome: Douglas\n",
            "Olá, Douglas!\n"
          ]
        }
      ]
    },
    {
      "cell_type": "code",
      "source": [
        "nome = input('Informe o seu primeiro nome: ')\n",
        "massa = float(input('Informe seu peso em kg: '))\n",
        "altura = float(input('Informe sua altura em metros na forma decimal: '))\n",
        "imc = massa / (altura ** 2)\n",
        "print(f'Olá {nome}! Seu IMC é {imc:.2f}')"
      ],
      "metadata": {
        "colab": {
          "base_uri": "https://localhost:8080/"
        },
        "id": "O1h7WfxuPChC",
        "outputId": "06ea77d8-b6e9-4a74-dfcc-23bae5c8449f"
      },
      "execution_count": null,
      "outputs": [
        {
          "output_type": "stream",
          "name": "stdout",
          "text": [
            "Informe o seu primeiro nome: Douglas\n",
            "Informe seu peso em kg: 80\n",
            "Informe sua altura em metros na forma decimal: 1.85\n",
            "Olá Douglas! Seu IMC é 23.37\n"
          ]
        }
      ]
    },
    {
      "cell_type": "markdown",
      "source": [
        "## 3.3 - Posições de caracteres nas strings"
      ],
      "metadata": {
        "id": "VxC9k6E64GY6"
      }
    },
    {
      "cell_type": "code",
      "source": [
        "'''\n",
        "Este bloco traz possível soluções para quando queremos saber qual caracter temos\n",
        "em uma posição (índice) ou sequência de caracteres em um intervalo\n",
        "'''\n",
        "# 0    1   2   3   4   5  6  7  8  9 10 11 12 13 (índice)\n",
        "# -14 -13 -12 -11 -10 -9 -8 -7 -6 -5 -4 -3 -2 -1 (índice reverso)\n",
        "# 1º 2º 3º 4º 5º 6º 7º 8º 9º 10º 11º 12º 13º 14º (ordinal)\n",
        "# d  o  u  g  @  g  m  a  i   l   .   c   o   m\n",
        "email = 'doug@gmail.com'\n",
        "print(email[4])\n",
        "print(email[:]) # imprimir um intervalo de todos os caracteres da string email\n",
        "print(email[0:4]) # selecionando o intervalo a partir do índice 0 até o índice 3\n",
        "print(email[2:]) # seleciona o intervalo a partir do índice 2 até o final\n",
        "print(email[:5]) # seleciona o intervalo de todos os caracteres até o de índice 4\n",
        "print(email[0:5:2]) # seleciona último caracter de uma sequência\n",
        "'''\n",
        "resumo do fatiamento de strings\n",
        "nome_variavel[indice de começo : índice de parada : de quanto em quanto]\n",
        "nome_variavel[início : fim : passo]\n",
        "'''"
      ],
      "metadata": {
        "colab": {
          "base_uri": "https://localhost:8080/"
        },
        "id": "Sfbd1k1O7QR1",
        "outputId": "0ba9e87c-588a-4e7b-b31b-2a4a7c5656da"
      },
      "execution_count": null,
      "outputs": [
        {
          "output_type": "stream",
          "name": "stdout",
          "text": [
            "@\n",
            "doug@gmail.com\n",
            "doug\n",
            "ug@gmail.com\n",
            "doug@\n",
            "du@\n"
          ]
        }
      ]
    },
    {
      "cell_type": "code",
      "source": [
        "# Contar a quantidade de carcteres em uma sequência\n",
        "email = 'doug@gmail.com'\n",
        "print(len(email))\n",
        "qtde = len(email)\n",
        "print(qtde)"
      ],
      "metadata": {
        "colab": {
          "base_uri": "https://localhost:8080/"
        },
        "id": "AiORW5TIMpaQ",
        "outputId": "cec16e7b-aaf7-437a-cb10-4b5084c9381f"
      },
      "execution_count": null,
      "outputs": [
        {
          "output_type": "stream",
          "name": "stdout",
          "text": [
            "14\n",
            "14\n"
          ]
        }
      ]
    },
    {
      "cell_type": "code",
      "source": [
        "cpf = 12345678910\n",
        "print(type(cpf))\n",
        "cpf = str(cpf)\n",
        "print(type(cpf))"
      ],
      "metadata": {
        "colab": {
          "base_uri": "https://localhost:8080/"
        },
        "id": "pkS6qnWoOK-B",
        "outputId": "b774549b-f52c-43c7-bf29-a21ec59383d3"
      },
      "execution_count": null,
      "outputs": [
        {
          "output_type": "stream",
          "name": "stdout",
          "text": [
            "<class 'int'>\n",
            "<class 'str'>\n"
          ]
        }
      ]
    },
    {
      "cell_type": "code",
      "source": [
        "# Operador IN\n",
        "\n",
        "email = 'doug@gmail.com'\n",
        "\n",
        "print('u' in email)"
      ],
      "metadata": {
        "colab": {
          "base_uri": "https://localhost:8080/"
        },
        "id": "F7h3tPDvPc3j",
        "outputId": "0cd98078-98c2-4152-8e04-f11b7ddec5b3"
      },
      "execution_count": null,
      "outputs": [
        {
          "output_type": "stream",
          "name": "stdout",
          "text": [
            "True\n"
          ]
        }
      ]
    },
    {
      "cell_type": "code",
      "source": [
        "# Operador NOT IN\n",
        "email = 'doug@gmail.com'\n",
        "\n",
        "print('u' not in email)"
      ],
      "metadata": {
        "colab": {
          "base_uri": "https://localhost:8080/"
        },
        "id": "-mAEYrB8Qaty",
        "outputId": "d7cbda52-4196-43d5-9eed-858fcac927c8"
      },
      "execution_count": null,
      "outputs": [
        {
          "output_type": "stream",
          "name": "stdout",
          "text": [
            "False\n"
          ]
        }
      ]
    },
    {
      "cell_type": "code",
      "source": [
        "# Método capitalize converte em maiúscula apenas a primeira letra de uma string\n",
        "nome = 'douglas'\n",
        "print(nome)\n",
        "nome = nome.capitalize()\n",
        "print(nome)"
      ],
      "metadata": {
        "colab": {
          "base_uri": "https://localhost:8080/"
        },
        "id": "xtJbgm3kQjme",
        "outputId": "b1325017-8759-431d-fd03-4a12cc0df5cd"
      },
      "execution_count": null,
      "outputs": [
        {
          "output_type": "stream",
          "name": "stdout",
          "text": [
            "douglas\n",
            "Douglas\n"
          ]
        }
      ]
    },
    {
      "cell_type": "code",
      "source": [
        "# Método Title, serve para deixar a primeira letra de cada palavra maiúscula\n",
        "nome = 'douglas almeida ribeiro'\n",
        "print(nome)\n",
        "nome = nome.capitalize()\n",
        "print(nome)\n",
        "nome = nome.title()\n",
        "print(nome)"
      ],
      "metadata": {
        "colab": {
          "base_uri": "https://localhost:8080/"
        },
        "id": "Rmr6_apVRnWb",
        "outputId": "9be50b45-fbcd-4b40-c84f-173ab44c3b0e"
      },
      "execution_count": null,
      "outputs": [
        {
          "output_type": "stream",
          "name": "stdout",
          "text": [
            "douglas almeida ribeiro\n",
            "Douglas almeida ribeiro\n",
            "Douglas Almeida Ribeiro\n"
          ]
        }
      ]
    },
    {
      "cell_type": "code",
      "source": [
        "# Método upper deixa todas as letras em maiúscula\n",
        "nome = 'Douglas de almeida ribeiro'\n",
        "print(nome)\n",
        "nome = nome.upper()\n",
        "print(nome)"
      ],
      "metadata": {
        "colab": {
          "base_uri": "https://localhost:8080/"
        },
        "id": "eAena3chSSb3",
        "outputId": "898e9dc2-f99e-4662-98d3-e334226fdc29"
      },
      "execution_count": null,
      "outputs": [
        {
          "output_type": "stream",
          "name": "stdout",
          "text": [
            "Douglas de almeida ribeiro\n",
            "DOUGLAS DE ALMEIDA RIBEIRO\n"
          ]
        }
      ]
    },
    {
      "cell_type": "code",
      "source": [
        "# Método para contar quantas vezes um determinado caracter aparece em uma string\n",
        "email = 'doug@gmail.com'\n",
        "email.count('@')"
      ],
      "metadata": {
        "colab": {
          "base_uri": "https://localhost:8080/"
        },
        "id": "-TC7UsNwTT5x",
        "outputId": "2730074a-94f4-4114-dd47-d5e06b242600"
      },
      "execution_count": null,
      "outputs": [
        {
          "output_type": "execute_result",
          "data": {
            "text/plain": [
              "1"
            ]
          },
          "metadata": {},
          "execution_count": 57
        }
      ]
    },
    {
      "cell_type": "code",
      "source": [
        "# Método que mostra a posição de um determinado caracter (caso apareça mais de uma vez, ele por padrão mostrará a 1ª)\n",
        "email = 'doug@gmail.com'\n",
        "email.find('o')"
      ],
      "metadata": {
        "colab": {
          "base_uri": "https://localhost:8080/"
        },
        "id": "MXV2rtowmTzZ",
        "outputId": "876fd1ae-f2c9-40c5-df48-e55bc9bd3826"
      },
      "execution_count": null,
      "outputs": [
        {
          "output_type": "execute_result",
          "data": {
            "text/plain": [
              "1"
            ]
          },
          "metadata": {},
          "execution_count": 59
        }
      ]
    },
    {
      "cell_type": "code",
      "source": [
        "# Método startswith verifica se uma string começa com um determinado caracter ou sequência de caracteres\n",
        "email = 'doug@gmail.com'\n",
        "email.startswith('doug')"
      ],
      "metadata": {
        "colab": {
          "base_uri": "https://localhost:8080/"
        },
        "id": "xhrLpQNanD-g",
        "outputId": "d4cb4e10-d006-4751-b718-704075a7d3d3"
      },
      "execution_count": null,
      "outputs": [
        {
          "output_type": "execute_result",
          "data": {
            "text/plain": [
              "True"
            ]
          },
          "metadata": {},
          "execution_count": 77
        }
      ]
    },
    {
      "cell_type": "code",
      "source": [
        "# Método endswith verifica se uma string termina com um determinado caracter ou sequência de caracteres\n",
        "email = 'doug@gmail.com'\n",
        "email.endswith('.com')"
      ],
      "metadata": {
        "colab": {
          "base_uri": "https://localhost:8080/"
        },
        "id": "TvGS1b_LodV1",
        "outputId": "3e7f1e67-bc94-4fd5-8a34-a722d9895273"
      },
      "execution_count": null,
      "outputs": [
        {
          "output_type": "execute_result",
          "data": {
            "text/plain": [
              "True"
            ]
          },
          "metadata": {},
          "execution_count": 80
        }
      ]
    },
    {
      "cell_type": "code",
      "source": [
        "# Método isnumeric() verifica se o conteúdo de uma string é ou não numérico\n",
        "cpf = '12345678910'\n",
        "cpf.isnumeric()"
      ],
      "metadata": {
        "colab": {
          "base_uri": "https://localhost:8080/"
        },
        "id": "0RhT7jgGp5xS",
        "outputId": "8e3f64f5-20b2-45b9-fbf5-8f811ed6a801"
      },
      "execution_count": null,
      "outputs": [
        {
          "output_type": "execute_result",
          "data": {
            "text/plain": [
              "False"
            ]
          },
          "metadata": {},
          "execution_count": 90
        }
      ]
    },
    {
      "cell_type": "code",
      "source": [
        "# Método isalpha() verifica se o conteúdo de uma string é ou não letra\n",
        "nome = 'Douglas Ribeiro'\n",
        "nome.isalpha()"
      ],
      "metadata": {
        "colab": {
          "base_uri": "https://localhost:8080/"
        },
        "id": "KxvnKo_5ts8P",
        "outputId": "be7daa60-d824-428f-aa95-2defa68c95e6"
      },
      "execution_count": null,
      "outputs": [
        {
          "output_type": "execute_result",
          "data": {
            "text/plain": [
              "False"
            ]
          },
          "metadata": {},
          "execution_count": 97
        }
      ]
    },
    {
      "cell_type": "code",
      "source": [
        "# Método isalnum verifica se o conteúdo de uma string é ou não combinação de letra e número\n",
        "nome = 'Dougla5'\n",
        "nome.isalnum()"
      ],
      "metadata": {
        "colab": {
          "base_uri": "https://localhost:8080/"
        },
        "id": "5dupXCpEuiVe",
        "outputId": "00ee8475-acea-4786-e6ee-59c7849794aa"
      },
      "execution_count": null,
      "outputs": [
        {
          "output_type": "execute_result",
          "data": {
            "text/plain": [
              "True"
            ]
          },
          "metadata": {},
          "execution_count": 100
        }
      ]
    },
    {
      "cell_type": "code",
      "source": [
        "# Método strip remove espaços indesejados no começo e/ou final da string\n",
        "nome = ' Douglas '\n",
        "print(len(nome))\n",
        "nome = nome.strip()\n",
        "print(len(nome))"
      ],
      "metadata": {
        "colab": {
          "base_uri": "https://localhost:8080/"
        },
        "id": "usbaggrDz_zC",
        "outputId": "296ed7a8-161f-4378-fee0-d91c892b4667"
      },
      "execution_count": null,
      "outputs": [
        {
          "output_type": "stream",
          "name": "stdout",
          "text": [
            "9\n",
            "7\n"
          ]
        }
      ]
    },
    {
      "cell_type": "code",
      "source": [
        "# Método replace substitui um caracter por outro\n",
        "# nome_da_string.replace('caracter_indesejado', 'caeacter_desejado')\n",
        "preco = 'R$ 10.50'\n",
        "preco = preco.replace('.',',')\n",
        "print(preco)"
      ],
      "metadata": {
        "colab": {
          "base_uri": "https://localhost:8080/"
        },
        "id": "UTjeAPmN0xjY",
        "outputId": "89d400d2-61b2-4bba-e1bb-b1c9304a7be8"
      },
      "execution_count": null,
      "outputs": [
        {
          "output_type": "stream",
          "name": "stdout",
          "text": [
            "R$ 10,50\n"
          ]
        }
      ]
    },
    {
      "cell_type": "code",
      "source": [
        "# Método split (divide uma string em duas ou mais partes por meio de um separador)\n",
        "nome = 'Douglas Almeida Ribeiro'\n",
        "nomes = nome.split()\n",
        "print(nomes)"
      ],
      "metadata": {
        "colab": {
          "base_uri": "https://localhost:8080/"
        },
        "id": "gjAlgWB31R6R",
        "outputId": "add11a14-d883-475d-a809-4a33a89218ac"
      },
      "execution_count": null,
      "outputs": [
        {
          "output_type": "stream",
          "name": "stdout",
          "text": [
            "['Douglas', 'Almeida', 'Ribeiro']\n"
          ]
        }
      ]
    },
    {
      "cell_type": "code",
      "source": [
        "# Método split (divide uma string em duas ou mais partes por meio de um separador)\n",
        "date = '12/05/2023'\n",
        "dia_mes_ano = date.split('/')\n",
        "print(dia_mes_ano)"
      ],
      "metadata": {
        "colab": {
          "base_uri": "https://localhost:8080/"
        },
        "id": "Ubp655sJ3RqR",
        "outputId": "d56a02ab-8c2d-4d45-c165-ea4165d29f68"
      },
      "execution_count": null,
      "outputs": [
        {
          "output_type": "stream",
          "name": "stdout",
          "text": [
            "['12', '05', '2023']\n"
          ]
        }
      ]
    },
    {
      "cell_type": "code",
      "source": [
        "'''\n",
        "Crie um programa que receba do usuário dois ou mais nomes separados\n",
        "por espaços e no mesmo input e os armazene em uma variável chamada nomes\n",
        "'''"
      ],
      "metadata": {
        "id": "ccHkLpmA3Nx5"
      },
      "execution_count": null,
      "outputs": []
    },
    {
      "cell_type": "code",
      "source": [
        "nomes = input('Informe dois ou mais nomes separados por espaços: ')\n",
        "print(nomes)\n",
        "'''\n",
        "Imagine que você deseja guardar os nomes informados em um estrutura única\n",
        "porém separando os nomes\n",
        "'''\n",
        "nomes = nomes.split()\n",
        "print(nomes)"
      ],
      "metadata": {
        "colab": {
          "base_uri": "https://localhost:8080/"
        },
        "id": "sWNuny0h6BZ4",
        "outputId": "8eec6a23-2da9-4c49-cd6e-755f5179f503"
      },
      "execution_count": null,
      "outputs": [
        {
          "output_type": "stream",
          "name": "stdout",
          "text": [
            "Informe dois ou mais nomes separados por espaços: Douglas Daniela Pedro Maria\n",
            "Douglas Daniela Pedro Maria\n",
            "['Douglas', 'Daniela', 'Pedro', 'Maria']\n"
          ]
        }
      ]
    },
    {
      "cell_type": "code",
      "source": [
        "nomes = input('Informe dois ou mais nomes separados por espaços: ')\n",
        "print(nomes)\n",
        "'''\n",
        "Imagine que você deseja guardar os nomes informados em um estrutura única\n",
        "porém separando os nomes\n",
        "'''\n",
        "nomes = nomes.split()\n",
        "print(nomes)\n",
        "print(type(nomes))"
      ],
      "metadata": {
        "colab": {
          "base_uri": "https://localhost:8080/"
        },
        "id": "9LmUn_XoA1hU",
        "outputId": "57672d18-411b-490a-e060-c5015557dadb"
      },
      "execution_count": null,
      "outputs": [
        {
          "output_type": "stream",
          "name": "stdout",
          "text": [
            "Informe dois ou mais nomes separados por espaços: Douglas Pedro\n",
            "Douglas Pedro\n",
            "['Douglas', 'Pedro']\n",
            "<class 'list'>\n"
          ]
        }
      ]
    },
    {
      "cell_type": "markdown",
      "source": [
        "# 4 - Estruturas de dados"
      ],
      "metadata": {
        "id": "ap1KHQliCqWy"
      }
    },
    {
      "cell_type": "markdown",
      "source": [
        "## 4.1 - Listas"
      ],
      "metadata": {
        "id": "m-fNF-dMCtIi"
      }
    },
    {
      "cell_type": "code",
      "source": [
        "# Uma lista é um objeto que pode ser vazio, ou ter um ou mais itens\n",
        "lista = ['dado1', 'dado2','dado3','dado4', 'dado_n']\n",
        "#índices    0         1       2       3       4       ou:\n",
        "#          -5        -4      -3      -2      -1\n",
        "#           1º        2º      3º      4º      5º\n",
        "'''\n",
        "Qual é a informação presente na lista cuja posição é o\n",
        "índice 3?\n",
        "'''\n",
        "print(f'A informação presente na lista na posição de índice 3 é: \"{lista[3]}\"')\n",
        "\n",
        "'''\n",
        "Quais dados estão presentes no intervalo que vai do 1º ao 3º elementos da lista?\n",
        "'''\n",
        "print(f'Os valores no intervalo do 1º ao 3º elementos são: \"{lista[0:3]}\"')"
      ],
      "metadata": {
        "colab": {
          "base_uri": "https://localhost:8080/"
        },
        "id": "cGPzxsCZCxLj",
        "outputId": "bf9e1ca7-733c-43ce-ed6c-51192597d35a"
      },
      "execution_count": null,
      "outputs": [
        {
          "output_type": "stream",
          "name": "stdout",
          "text": [
            "A informação presente na lista na posição de índice 3 é: \"dado4\"\n",
            "Os valores no intervalo do 1º ao 3º elementos são: \"['dado1', 'dado2', 'dado3']\"\n"
          ]
        }
      ]
    },
    {
      "cell_type": "code",
      "source": [
        "produtos = ['monitor', 'celular', 'notebook', 'desktop', 'impressora', 'teclado']\n",
        "precos = [600, 2000, 5000, 3000, 1500, 200]\n",
        "vendas = [300, 500, 100, 700, 500, 1000]\n",
        "estoques = [5000] * 6 #  Este comando cria uma lista que tem 6 elementos com o mesmo valor (5000)"
      ],
      "metadata": {
        "id": "pIYp7jXXMirY"
      },
      "execution_count": null,
      "outputs": []
    },
    {
      "cell_type": "code",
      "source": [
        "print(f'a lista produtos tem {len(produtos)} elementos')\n",
        "print(f'a lista precos tem {len(precos)} elementos')\n",
        "print(f'a lista vendas tem {len(vendas)} elementos')\n",
        "print(f'a lista estoques tem {len(estoques)} elementos')"
      ],
      "metadata": {
        "colab": {
          "base_uri": "https://localhost:8080/"
        },
        "id": "fUVTWvq0QCtB",
        "outputId": "8f6d936e-04a2-4025-9dcb-9349fb850db8"
      },
      "execution_count": null,
      "outputs": [
        {
          "output_type": "stream",
          "name": "stdout",
          "text": [
            "a lista produtos tem 6 elementos\n",
            "a lista precos tem 6 elementos\n",
            "a lista vendas tem 6 elementos\n",
            "a lista estoques tem 6 elementos\n"
          ]
        }
      ]
    },
    {
      "cell_type": "code",
      "source": [
        "'''\n",
        "Elabore um programa que receba do usuário um número inteiro e positivo\n",
        "de no máximo 5, e automaticamente, exiba o nome do produto correspondente,\n",
        "seu preço, sua quantidade vendida, o valor faturado em R$, e quantas unidades\n",
        "ainda restam em estoque desse produto.\n",
        "'''\n",
        "produtos = ['monitor', 'celular', 'notebook', 'desktop', 'impressora', 'teclado']\n",
        "precos = [600, 2000, 5000, 3000, 1500, 200]\n",
        "vendas = [300, 500, 100, 700, 500, 1000]\n",
        "estoques = [5000] * 6 #  Este comando cria uma lista que tem 6 elementos com o mesmo valor (5000)"
      ],
      "metadata": {
        "id": "3yTKjkhFQ01x"
      },
      "execution_count": null,
      "outputs": []
    },
    {
      "cell_type": "code",
      "source": [
        "i = int(input('Informe um número inteiro e positivos de 0 a 5: ')) # recebe do usuário um número inteiro e positivo e o armazena na variável i\n",
        "print(f'O produto escolhido foi: {produtos[i]}') # Exibe o nome do produto referente ao número informado pelo usuário\n",
        "print(f'seu preço é de: R$ {precos[i]:,.2f}')\n",
        "print(f'sua quantidade vendida fou de {vendas[i]} unidades')\n",
        "print(f'o seu faturamento foi de R$ {(vendas[i]*precos[i]):,.2f} ')\n",
        "print(f'e ainda restam {estoques[i]-vendas[i]} unidades em estoque')"
      ],
      "metadata": {
        "colab": {
          "base_uri": "https://localhost:8080/"
        },
        "id": "Ly4CHZkJRQHe",
        "outputId": "7b755fed-9169-4026-c71f-fd567e6a744d"
      },
      "execution_count": null,
      "outputs": [
        {
          "output_type": "stream",
          "name": "stdout",
          "text": [
            "Informe um número inteiro e positivos de 0 a 5: 2\n",
            "O produto escolhido foi: notebook\n",
            "seu preço é de: R$ 5,000.00\n",
            "sua quantidade vendida fou de 100 unidades\n",
            "o seu faturamento foi de R$ 500,000.00 \n",
            "e ainda restam 4900 unidades em estoque\n"
          ]
        }
      ]
    },
    {
      "cell_type": "code",
      "source": [
        "i = int(input('Informe um número inteiro e positivos de 0 a 5: '))\n",
        "print(f'''\n",
        "O produto escolhido foi: {produtos[i]}, seu preço é de: R$ {precos[i]:,.2f},\n",
        "sua quantidade vendida fou de {vendas[i]} unidades,\n",
        "o seu faturamento foi de R$ {(vendas[i]*precos[i]):,.2f},\n",
        "e ainda restam {estoques[i]-vendas[i]} unidades em estoque''')"
      ],
      "metadata": {
        "colab": {
          "base_uri": "https://localhost:8080/"
        },
        "id": "Vn4ErBFRlhO9",
        "outputId": "769e962e-3d15-4378-de45-6aebf53036f3"
      },
      "execution_count": null,
      "outputs": [
        {
          "output_type": "stream",
          "name": "stdout",
          "text": [
            "Informe um número inteiro e positivos de 0 a 5: 2\n",
            "O produto escolhido foi: notebook, seu preço \n",
            "é de: R$ 5,000.00, sua quantidade vendida fou de 100 unidades,\n",
            " o seu faturamento foi de R$ 500,000.00, o seu faturamento \n",
            " foi de R$ 500,000.00\n"
          ]
        }
      ]
    },
    {
      "cell_type": "code",
      "source": [
        "'''\n",
        "Inserindo valores em uma lista\n",
        "'''\n",
        "produtos = ['monitor', 'celular', 'notebook', 'desktop', 'impressora', 'teclado']\n",
        "precos = [600, 2000, 5000, 3000, 1500, 200]\n",
        "vendas = [300, 500, 100, 700, 500, 1000]\n",
        "estoques = [5000] * 6 #  Este comando cria uma lista que tem 6 elementos com o mesmo valor (5000)\n",
        "\n",
        "'''\n",
        "Inserindo um novo produto na lista produtos\n",
        "'''\n",
        "produtos.append('mouse')\n",
        "print(produtos)\n",
        "precos.append(10)\n",
        "print(precos)\n",
        "vendas.append(1000)\n",
        "print(vendas)\n",
        "estoques.append(5000)\n",
        "print(estoques)"
      ],
      "metadata": {
        "colab": {
          "base_uri": "https://localhost:8080/"
        },
        "id": "W-pu3Z6aVIh0",
        "outputId": "a62ab3b5-97ff-4bef-8454-15c0720e7f0f"
      },
      "execution_count": null,
      "outputs": [
        {
          "output_type": "stream",
          "name": "stdout",
          "text": [
            "['monitor', 'celular', 'notebook', 'desktop', 'impressora', 'teclado', 'mouse']\n",
            "[600, 2000, 5000, 3000, 1500, 200, 10]\n",
            "[300, 500, 100, 700, 500, 1000, 1000]\n",
            "[5000, 5000, 5000, 5000, 5000, 5000, 5000]\n"
          ]
        }
      ]
    },
    {
      "cell_type": "code",
      "source": [
        "'''\n",
        "Inserindo valores em um índice específico de uma lista\n",
        "'''\n",
        "produtos = ['monitor', 'celular', 'notebook', 'desktop', 'impressora', 'teclado']\n",
        "precos = [600, 2000, 5000, 3000, 1500, 200]\n",
        "vendas = [300, 500, 100, 700, 500, 1000]\n",
        "estoques = [5000] * 6 #  Este comando cria uma lista que tem 6 elementos com o mesmo valor (5000)\n",
        "'''\n",
        "método insert\n",
        "Imagine que você deseja inserir o produto microfone na primeira posição da lista\n",
        "(índice 0), sem excluir nenhum produto previamente existente\n",
        "'''\n",
        "produtos.insert(0,'microfone')\n",
        "print(produtos)\n",
        "precos.insert(0,700)\n",
        "print(precos)\n",
        "vendas.insert(0,50)\n",
        "print(vendas)\n",
        "estoques.insert(0,5000)\n",
        "print(estoques)"
      ],
      "metadata": {
        "colab": {
          "base_uri": "https://localhost:8080/"
        },
        "id": "n35Xhaupie3N",
        "outputId": "f78f6614-4e1d-4952-d6a1-4e06e1bd689a"
      },
      "execution_count": null,
      "outputs": [
        {
          "output_type": "stream",
          "name": "stdout",
          "text": [
            "['microfone', 'monitor', 'celular', 'notebook', 'desktop', 'impressora', 'teclado']\n",
            "[700, 600, 2000, 5000, 3000, 1500, 200]\n",
            "[50, 300, 500, 100, 700, 500, 1000]\n",
            "[5000, 5000, 5000, 5000, 5000, 5000, 5000]\n"
          ]
        }
      ]
    },
    {
      "cell_type": "code",
      "source": [
        "'''\n",
        "A principal diferença entre append e insert é a posição que o elemento é\n",
        "inserido, no append por padrão o elemento é inserido na última posição e no\n",
        "insert é possível escolher a posição onde vamos inserir o novo elemento\n",
        "'''"
      ],
      "metadata": {
        "id": "f7R9NSzQpK1a"
      },
      "execution_count": null,
      "outputs": []
    },
    {
      "cell_type": "code",
      "source": [
        "'''\n",
        "Excluindo elementos de uma lista\n",
        "1º método: (pop) ele exclui com a referência do índice\n",
        "'''\n",
        "produtos = ['monitor', 'celular', 'notebook', 'desktop', 'impressora', 'teclado']\n",
        "precos = [600, 2000, 5000, 3000, 1500, 200]\n",
        "vendas = [300, 500, 100, 700, 500, 1000]\n",
        "estoques = [5000] * 6 #  Este comando cria uma lista que tem 6 elementos com o mesmo valor (5000)\n",
        "\n",
        "'''\n",
        "Suponha que você deseja excluir o produto teclado da lista de produtos\n",
        "'''\n",
        "produtos.pop()\n",
        "print(produtos)\n",
        "precos.pop()\n",
        "print(precos)\n",
        "vendas.pop()\n",
        "print(vendas)\n",
        "estoques.pop()\n",
        "print(estoques)\n"
      ],
      "metadata": {
        "colab": {
          "base_uri": "https://localhost:8080/"
        },
        "id": "8uAcBb6S78pD",
        "outputId": "e582e9a0-898d-4b7a-c3d8-aff85affc7d7"
      },
      "execution_count": null,
      "outputs": [
        {
          "output_type": "stream",
          "name": "stdout",
          "text": [
            "['monitor', 'celular', 'notebook', 'desktop', 'impressora']\n",
            "[600, 2000, 5000, 3000, 1500]\n",
            "[300, 500, 100, 700, 500]\n",
            "[5000, 5000, 5000, 5000, 5000]\n"
          ]
        }
      ]
    },
    {
      "cell_type": "code",
      "source": [
        "'''\n",
        "Utilizando o método remove para excluir um dado pelo seu valor\n",
        "'''\n",
        "produtos = ['monitor', 'celular', 'notebook', 'desktop', 'impressora', 'teclado']\n",
        "precos = [600, 2000, 5000, 3000, 1500, 200]\n",
        "vendas = [300, 500, 100, 700, 500, 1000]\n",
        "estoques = [5000] * 6 #  Este comando cria uma lista que tem 6 elementos com o mesmo valor (5000)\n",
        "\n",
        "'''\n",
        "Suponha que você deseja remover o teclado da lista produtos e não saiba qual é\n",
        "o seu índice\n",
        "'''\n",
        "produtos.remove('teclado')\n",
        "print(produtos)\n",
        "precos.remove(200)\n",
        "print(precos)"
      ],
      "metadata": {
        "colab": {
          "base_uri": "https://localhost:8080/"
        },
        "id": "_qYw8Irc9oYy",
        "outputId": "c800f513-bc27-4f0a-aed4-1dc025bf6ebb"
      },
      "execution_count": null,
      "outputs": [
        {
          "output_type": "stream",
          "name": "stdout",
          "text": [
            "['monitor', 'notebook', 'desktop', 'impressora', 'teclado']\n",
            "[600, 2000, 5000, 3000, 1500]\n"
          ]
        }
      ]
    },
    {
      "cell_type": "code",
      "source": [
        "\n",
        "'''\n",
        "Suponha que você deseja saber se na lista produtos existe o termo celular\n",
        "'''\n",
        "produtos = ['monitor', 'celular', 'notebook', 'desktop', 'impressora', 'teclado']\n",
        "precos = [600, 2000, 5000, 3000, 1500, 200]\n",
        "vendas = [300, 500, 100, 700, 500, 1000]\n",
        "estoques = [5000] * 6 #  Este comando cria uma lista que tem 6 elementos com o mesmo valor (5000)\n",
        "\n",
        "print('celular' in produtos)\n",
        "\n"
      ],
      "metadata": {
        "colab": {
          "base_uri": "https://localhost:8080/"
        },
        "id": "U92qjKCuBUd1",
        "outputId": "13a08303-3a94-4096-f487-cc1311ff241e"
      },
      "execution_count": null,
      "outputs": [
        {
          "output_type": "stream",
          "name": "stdout",
          "text": [
            "True\n"
          ]
        }
      ]
    },
    {
      "cell_type": "code",
      "source": [
        "produtos = ['monitor', 'celular', 'notebook', 'desktop', 'impressora', 'teclado']\n",
        "precos = [600, 2000, 5000, 3000, 1500, 200]\n",
        "vendas = [300, 500, 100, 700, 500, 1000]\n",
        "estoques = [5000] * 6 #  Este comando cria uma lista que tem 6 elementos com o mesmo valor (5000)\n",
        "\n",
        "\n",
        "'''\n",
        "Suponha que você deseja saber se na lista produtos existe o termo celular e caso\n",
        "exista qual é o seu índice - método index\n",
        "'''\n",
        "i = produtos.index('celular')\n",
        "\n",
        "\n",
        "print(f'''\n",
        "O produto escolhido foi: {produtos[i]}, seu preço é de: R$ {precos[i]:,.2f},\n",
        "sua quantidade vendida fou de {vendas[i]} unidades,\n",
        "o seu faturamento foi de R$ {(vendas[i]*precos[i]):,.2f}, o seu estoque\n",
        "é de {(estoques[i] - vendas[i])} unidades''')"
      ],
      "metadata": {
        "colab": {
          "base_uri": "https://localhost:8080/"
        },
        "id": "L91O2kSxCF6z",
        "outputId": "ff04bbf7-0b3e-4de5-a421-8cae008981ce"
      },
      "execution_count": null,
      "outputs": [
        {
          "output_type": "stream",
          "name": "stdout",
          "text": [
            "\n",
            "O produto escolhido foi: celular, seu preço é de: R$ 2,000.00,\n",
            "sua quantidade vendida fou de 500 unidades,\n",
            "o seu faturamento foi de R$ 1,000,000.00, o seu estoque\n",
            "é de 4500 unidades\n"
          ]
        }
      ]
    },
    {
      "cell_type": "code",
      "source": [
        "produtos = ['monitor', 'celular', 'notebook', 'desktop', 'impressora', 'teclado']\n",
        "precos = [600, 2000, 5000, 3000, 1500, 200]\n",
        "vendas = [300, 500, 100, 700, 500, 1000]\n",
        "estoques = [5000] * 6 #  Este comando cria uma lista que tem 6 elementos com o mesmo valor (5000)\n",
        "'''\n",
        "Imagine que você deseja permitir que o usuário consulte a existência de um\n",
        "produto pelo nome e caso esse produto exista, o programa retorna o nome do\n",
        "produto, seu preço unitário de venda, sua quantidade vendida, seu faturamento e\n",
        "quantas unidades ainda restam em estoique desse produto.\n",
        "'''\n",
        "\n",
        "i = produtos.index(input('Informe nome do produto que deseja consultar: ').lower())\n",
        "\n",
        "print(f'''\n",
        "O produto escolhido foi: {produtos[i]}, seu preço é de: R$ {precos[i]:,.2f},\n",
        "sua quantidade vendida fou de {vendas[i]} unidades,\n",
        "o seu faturamento foi de R$ {(vendas[i]*precos[i]):,.2f}, o seu estoque\n",
        "é de {(estoques[i] - vendas[i])} unidades''')"
      ],
      "metadata": {
        "colab": {
          "base_uri": "https://localhost:8080/"
        },
        "id": "gkwrU-6KCy3L",
        "outputId": "dc367e72-70fa-4767-aaa6-a27d008d57f1"
      },
      "execution_count": null,
      "outputs": [
        {
          "output_type": "stream",
          "name": "stdout",
          "text": [
            "Informe nome do produto que deseja consultar: TECLADO\n",
            "\n",
            "O produto escolhido foi: teclado, seu preço é de: R$ 200.00,\n",
            "sua quantidade vendida fou de 1000 unidades,\n",
            "o seu faturamento foi de R$ 200,000.00, o seu estoque\n",
            "é de 4000 unidades\n"
          ]
        }
      ]
    },
    {
      "cell_type": "markdown",
      "source": [
        "## 4.2 - Tuplas"
      ],
      "metadata": {
        "id": "ajcZnFfIVpwt"
      }
    },
    {
      "cell_type": "code",
      "source": [
        "'''\n",
        "Tuplas são estruturas de dados imutáveis\n",
        "'''\n",
        "# Criando tuplas\n",
        "nomes = ('Douglas', 'Daniela', 'Pedro', 'Maria')\n",
        "idades = (47, 8, 68, 67)\n",
        "alturas = (1.85, 1.32, 1.75, 1.69)\n",
        "tupla_vazia = ()\n",
        "print(type(nomes))\n",
        "print(nomes)"
      ],
      "metadata": {
        "colab": {
          "base_uri": "https://localhost:8080/"
        },
        "id": "BqUe6G74VmVX",
        "outputId": "fbbc77da-87e5-467a-8006-c5e290134198"
      },
      "execution_count": null,
      "outputs": [
        {
          "output_type": "stream",
          "name": "stdout",
          "text": [
            "<class 'tuple'>\n",
            "('Douglas', 'Daniela', 'Pedro', 'Maria')\n"
          ]
        }
      ]
    },
    {
      "cell_type": "code",
      "source": [
        "# Fatiando tuplas\n",
        "nomes = ('Douglas', 'Daniela', 'Pedro', 'Maria')\n",
        "idades = (47, 8, 68, 67)\n",
        "alturas = (1.85, 1.32, 1.75, 1.69)\n",
        "print(nomes[0])\n",
        "print(idades[1:3])\n",
        "print(alturas[-1])"
      ],
      "metadata": {
        "colab": {
          "base_uri": "https://localhost:8080/"
        },
        "id": "cupm1R0CWIWE",
        "outputId": "5c891ea6-a387-4d39-d28d-d761116e7d80"
      },
      "execution_count": null,
      "outputs": [
        {
          "output_type": "stream",
          "name": "stdout",
          "text": [
            "Douglas\n",
            "(8, 68)\n",
            "1.69\n"
          ]
        }
      ]
    },
    {
      "cell_type": "code",
      "source": [
        "# convertendo objetos em tuplas e vice-versa\n",
        "lista = [1,2,3]\n",
        "tupla = tuple(lista)\n",
        "nova_lista = list(tupla)\n",
        "print(lista)\n",
        "print(tupla)\n",
        "print(nova_lista)"
      ],
      "metadata": {
        "colab": {
          "base_uri": "https://localhost:8080/"
        },
        "id": "nrVsuE0oWbhP",
        "outputId": "8c3222a1-a07c-446b-8d0e-1fe1fe03509c"
      },
      "execution_count": null,
      "outputs": [
        {
          "output_type": "stream",
          "name": "stdout",
          "text": [
            "[1, 2, 3]\n",
            "(1, 2, 3)\n",
            "[1, 2, 3]\n"
          ]
        }
      ]
    },
    {
      "cell_type": "code",
      "source": [
        "# verificando a existência de um elemento em uma tupla\n",
        "lista = [1,2,3]\n",
        "tupla = tuple(lista)\n",
        "nova_lista = list(tupla)\n",
        "print(4 in tupla)\n",
        "print(4 not in tupla)"
      ],
      "metadata": {
        "colab": {
          "base_uri": "https://localhost:8080/"
        },
        "id": "WsCVxbiPWw2N",
        "outputId": "a3cd9b48-2e29-42ab-96b5-d65522c6def1"
      },
      "execution_count": null,
      "outputs": [
        {
          "output_type": "stream",
          "name": "stdout",
          "text": [
            "False\n",
            "True\n"
          ]
        }
      ]
    },
    {
      "cell_type": "markdown",
      "source": [
        "## 4.3 - Dicionários"
      ],
      "metadata": {
        "id": "8YfA1dXIXmjE"
      }
    },
    {
      "cell_type": "code",
      "source": [
        "carro = {'marca':'vw','modelo':'gol','ano':'2014','motor':'1.0'}\n",
        "type(carro)"
      ],
      "metadata": {
        "colab": {
          "base_uri": "https://localhost:8080/"
        },
        "id": "ftLPvY7qX3SG",
        "outputId": "1c442655-d3d7-46e5-cbae-5266bc65d92b"
      },
      "execution_count": null,
      "outputs": [
        {
          "output_type": "execute_result",
          "data": {
            "text/plain": [
              "dict"
            ]
          },
          "metadata": {},
          "execution_count": 21
        }
      ]
    },
    {
      "cell_type": "code",
      "source": [
        "# Inserindo uma chave um valor em um dicionário existente\n",
        "carro = {'marca':'vw','modelo':'gol','ano':'2014','motor':'1.0'}\n",
        "carro['cor'] = 'azul'\n",
        "print(carro)"
      ],
      "metadata": {
        "colab": {
          "base_uri": "https://localhost:8080/"
        },
        "id": "xKwaoFNJZn71",
        "outputId": "41331aa4-8c36-47bf-84bc-a0bfaf76464a"
      },
      "execution_count": null,
      "outputs": [
        {
          "output_type": "stream",
          "name": "stdout",
          "text": [
            "{'marca': 'vw', 'modelo': 'gol', 'ano': '2014', 'motor': '1.0', 'cor': 'azul'}\n"
          ]
        }
      ]
    },
    {
      "cell_type": "code",
      "source": [
        "carro['km'] = 280000\n",
        "print(carro)"
      ],
      "metadata": {
        "colab": {
          "base_uri": "https://localhost:8080/"
        },
        "id": "9CTEVr44ah8E",
        "outputId": "9dda946b-8b1b-43f6-f889-dcbae29004f3"
      },
      "execution_count": null,
      "outputs": [
        {
          "output_type": "stream",
          "name": "stdout",
          "text": [
            "{'marca': 'vw', 'modelo': 'gol', 'ano': '2014', 'motor': '1.0', 'cor': 'azul', 'km': 280000}\n"
          ]
        }
      ]
    },
    {
      "cell_type": "code",
      "source": [
        "carro = {'marca':'vw','modelo':'gol','ano':'2014','motor':'1.0'}\n",
        "'''\n",
        "buscar um valor em um dicionário diretamente pela sua chave pode ser\n",
        "um problema se por exemplo essa chave não existir no dicionário original\n",
        "'''\n",
        "carro['marca']"
      ],
      "metadata": {
        "colab": {
          "base_uri": "https://localhost:8080/",
          "height": 35
        },
        "id": "QHws0xjObEZM",
        "outputId": "d3865b03-dc52-40b2-b5a7-64f165bc228e"
      },
      "execution_count": null,
      "outputs": [
        {
          "output_type": "execute_result",
          "data": {
            "text/plain": [
              "'vw'"
            ],
            "application/vnd.google.colaboratory.intrinsic+json": {
              "type": "string"
            }
          },
          "metadata": {},
          "execution_count": 29
        }
      ]
    },
    {
      "cell_type": "code",
      "source": [
        "carro = {'marca':'vw','modelo':'gol','ano':'2014','motor':'1.0'}\n",
        "'''\n",
        "buscar um valor em um dicionário diretamente pela sua chave pode ser\n",
        "um problema se por exemplo essa chave não existir no dicionário original\n",
        "'''\n",
        "carro['doc']"
      ],
      "metadata": {
        "colab": {
          "base_uri": "https://localhost:8080/",
          "height": 176
        },
        "id": "3pvYX_HaZ1Jm",
        "outputId": "11170005-f62f-41cf-f809-3b30fda1c516"
      },
      "execution_count": null,
      "outputs": [
        {
          "output_type": "error",
          "ename": "KeyError",
          "evalue": "'doc'",
          "traceback": [
            "\u001b[0;31m---------------------------------------------------------------------------\u001b[0m",
            "\u001b[0;31mKeyError\u001b[0m                                  Traceback (most recent call last)",
            "\u001b[0;32m<ipython-input-30-7c0be97081e7>\u001b[0m in \u001b[0;36m<cell line: 6>\u001b[0;34m()\u001b[0m\n\u001b[1;32m      4\u001b[0m \u001b[0mum\u001b[0m \u001b[0mproblema\u001b[0m \u001b[0mse\u001b[0m \u001b[0mpor\u001b[0m \u001b[0mexemplo\u001b[0m \u001b[0messa\u001b[0m \u001b[0mchave\u001b[0m \u001b[0mnão\u001b[0m \u001b[0mexistir\u001b[0m \u001b[0mno\u001b[0m \u001b[0mdicionário\u001b[0m \u001b[0moriginal\u001b[0m\u001b[0;34m\u001b[0m\u001b[0;34m\u001b[0m\u001b[0m\n\u001b[1;32m      5\u001b[0m '''\n\u001b[0;32m----> 6\u001b[0;31m \u001b[0mcarro\u001b[0m\u001b[0;34m[\u001b[0m\u001b[0;34m'doc'\u001b[0m\u001b[0;34m]\u001b[0m\u001b[0;34m\u001b[0m\u001b[0;34m\u001b[0m\u001b[0m\n\u001b[0m",
            "\u001b[0;31mKeyError\u001b[0m: 'doc'"
          ]
        }
      ]
    },
    {
      "cell_type": "code",
      "source": [
        "carro = {'marca':'vw','modelo':'gol','ano':'2014','motor':'1.0'}\n",
        "'''\n",
        "Alternativa\n",
        "'''\n",
        "carro.get('marca')"
      ],
      "metadata": {
        "colab": {
          "base_uri": "https://localhost:8080/",
          "height": 35
        },
        "id": "_Tz19lhzbPAX",
        "outputId": "93fe8d64-c865-4867-e54d-0d0985a98933"
      },
      "execution_count": null,
      "outputs": [
        {
          "output_type": "execute_result",
          "data": {
            "text/plain": [
              "'vw'"
            ],
            "application/vnd.google.colaboratory.intrinsic+json": {
              "type": "string"
            }
          },
          "metadata": {},
          "execution_count": 31
        }
      ]
    },
    {
      "cell_type": "code",
      "source": [
        "carro = {'marca':'vw','modelo':'gol','ano':'2014','motor':'1.0'}\n",
        "'''\n",
        "Alternativa\n",
        "'''\n",
        "carro.get('doc')\n",
        "'''\n",
        "Resumindo: para os dicionários o método get é bem semelhante à busca\n",
        "diretamente pela chave, mas com uma importante diferença: pelo método\n",
        "get, caso a chave não exista no dicionário original, ao onvés de travar o\n",
        "programa, o método retorna vazio\n",
        "'''"
      ],
      "metadata": {
        "id": "VFWoNJ4Hb5Dc"
      },
      "execution_count": null,
      "outputs": []
    },
    {
      "cell_type": "code",
      "source": [
        "# Removendo o último para de chave e valor de um dicionário\n",
        "carro = {'marca':'vw','modelo':'gol','ano':'2014','motor':'1.0'}\n",
        "carro.popitem()"
      ],
      "metadata": {
        "colab": {
          "base_uri": "https://localhost:8080/"
        },
        "id": "hlrWw70ZccOr",
        "outputId": "cbfda5d3-cff4-4efe-95a0-dd7351baea9b"
      },
      "execution_count": null,
      "outputs": [
        {
          "output_type": "execute_result",
          "data": {
            "text/plain": [
              "('motor', '1.0')"
            ]
          },
          "metadata": {},
          "execution_count": 34
        }
      ]
    },
    {
      "cell_type": "code",
      "source": [
        "# Excluindo um item de um dicionário\n",
        "carro = {'marca':'vw','modelo':'gol','ano':'2014','motor':'1.0'}\n",
        "carro.pop('marca')\n",
        "print(carro)"
      ],
      "metadata": {
        "colab": {
          "base_uri": "https://localhost:8080/"
        },
        "id": "5b9ArKLLc57w",
        "outputId": "8f7fef61-a958-491e-e463-cc9969017206"
      },
      "execution_count": null,
      "outputs": [
        {
          "output_type": "stream",
          "name": "stdout",
          "text": [
            "{'modelo': 'gol', 'ano': '2014', 'motor': '1.0'}\n"
          ]
        }
      ]
    },
    {
      "cell_type": "code",
      "source": [
        "# deixando um dicionário sem elemento algum\n",
        "carro = {'marca':'vw','modelo':'gol','ano':'2014','motor':'1.0'}\n",
        "print(carro)\n",
        "carro.clear()\n",
        "print(carro)"
      ],
      "metadata": {
        "colab": {
          "base_uri": "https://localhost:8080/"
        },
        "id": "isL7C8nBdJib",
        "outputId": "5d097a74-10cf-4ef8-aa5c-6cf58f8a463f"
      },
      "execution_count": null,
      "outputs": [
        {
          "output_type": "stream",
          "name": "stdout",
          "text": [
            "{'marca': 'vw', 'modelo': 'gol', 'ano': '2014', 'motor': '1.0'}\n",
            "{}\n"
          ]
        }
      ]
    },
    {
      "cell_type": "markdown",
      "source": [
        "## 4.4 - Sets (conjuntos)"
      ],
      "metadata": {
        "id": "bcv_UOR_dabJ"
      }
    },
    {
      "cell_type": "code",
      "source": [
        "# Criando conjuntos\n",
        "nomes = {'Douglas', 'Daniela', 'Pedro', 'Maria'}\n",
        "pesos = {78, 32, 86, 74}\n",
        "print(nomes)\n",
        "print(pesos)\n",
        "print(type(nomes))"
      ],
      "metadata": {
        "colab": {
          "base_uri": "https://localhost:8080/"
        },
        "id": "jq8ee6oudZKH",
        "outputId": "37e85235-7f65-4a6d-c591-8aa8260e9a6a"
      },
      "execution_count": null,
      "outputs": [
        {
          "output_type": "stream",
          "name": "stdout",
          "text": [
            "{'Pedro', 'Douglas', 'Maria', 'Daniela'}\n",
            "{32, 78, 74, 86}\n",
            "<class 'set'>\n"
          ]
        }
      ]
    },
    {
      "cell_type": "code",
      "source": [
        "# impossibilidade de receber valores duplicados\n",
        "alturas = {1.85, 1.34, 1.78, 1.69, 1.34}\n",
        "print(alturas)"
      ],
      "metadata": {
        "colab": {
          "base_uri": "https://localhost:8080/"
        },
        "id": "9pK8GYoVdyX9",
        "outputId": "20bf706c-f41d-43aa-95bb-83b05b08305c"
      },
      "execution_count": null,
      "outputs": [
        {
          "output_type": "stream",
          "name": "stdout",
          "text": [
            "{1.69, 1.78, 1.85, 1.34}\n"
          ]
        }
      ]
    },
    {
      "cell_type": "code",
      "source": [
        "# Adição de elemento único em um conjunto\n",
        "loja_a = {'garfo', 'faca', 'caneca', 'copo'}\n",
        "loja_b = {'copo', 'caneca', 'taça', 'tigela'}\n",
        "print(loja_a)\n",
        "print(loja_b)\n",
        "loja_a.add('prato')\n",
        "loja_b.add('pote')\n",
        "print(loja_a)\n",
        "print(loja_b)\n",
        "# Adição de mais de um elemento em um conjunto\n",
        "loja_a.update(['bule', 'chaleira'])\n",
        "print(loja_a)\n",
        "# União de conjuntos\n",
        "loja_c = loja_a.union(loja_b)\n",
        "print(loja_c)"
      ],
      "metadata": {
        "colab": {
          "base_uri": "https://localhost:8080/"
        },
        "id": "P9M4AQ65eABm",
        "outputId": "98ab53c3-18e4-46c0-f0a1-68c6daa507d3"
      },
      "execution_count": null,
      "outputs": [
        {
          "output_type": "stream",
          "name": "stdout",
          "text": [
            "{'garfo', 'faca', 'copo', 'caneca'}\n",
            "{'copo', 'taça', 'tigela', 'caneca'}\n",
            "{'garfo', 'copo', 'caneca', 'faca', 'prato'}\n",
            "{'copo', 'tigela', 'taça', 'pote', 'caneca'}\n",
            "{'garfo', 'copo', 'bule', 'caneca', 'chaleira', 'faca', 'prato'}\n",
            "{'garfo', 'copo', 'tigela', 'bule', 'chaleira', 'caneca', 'taça', 'faca', 'pote', 'prato'}\n"
          ]
        }
      ]
    },
    {
      "cell_type": "code",
      "source": [
        "# Intersecção de conjuntos\n",
        "loja_a = {'garfo', 'faca', 'caneca', 'copo'}\n",
        "loja_b = {'copo', 'caneca', 'taça', 'tigela'}\n",
        "interseccao = loja_a.intersection(loja_b)\n",
        "print(interseccao)"
      ],
      "metadata": {
        "colab": {
          "base_uri": "https://localhost:8080/"
        },
        "id": "E4z5FWp7fy9f",
        "outputId": "10135c71-1091-4600-9ff8-779516f80527"
      },
      "execution_count": null,
      "outputs": [
        {
          "output_type": "stream",
          "name": "stdout",
          "text": [
            "{'copo', 'caneca'}\n"
          ]
        }
      ]
    },
    {
      "cell_type": "code",
      "source": [
        "# Verificando os elementos exclusivos na comparação de conjuntos\n",
        "loja_a = {'garfo', 'faca', 'caneca', 'copo'}\n",
        "loja_b = {'copo', 'caneca', 'taça', 'tigela'}\n",
        "only_a = loja_a.difference(loja_b)\n",
        "only_b = loja_b.difference(loja_a)\n",
        "print(only_a)\n",
        "print(only_b)"
      ],
      "metadata": {
        "colab": {
          "base_uri": "https://localhost:8080/"
        },
        "id": "E6qC2YBOgN4p",
        "outputId": "892962cf-7388-4297-fc87-f808f0691761"
      },
      "execution_count": null,
      "outputs": [
        {
          "output_type": "stream",
          "name": "stdout",
          "text": [
            "{'garfo', 'faca'}\n",
            "{'taça', 'tigela'}\n"
          ]
        }
      ]
    },
    {
      "cell_type": "code",
      "source": [
        "# Excluíndo elementos de um conjunto pelo método remove\n",
        "loja_a = {'garfo', 'faca', 'caneca', 'copo'}\n",
        "loja_b = {'copo', 'caneca', 'taça', 'tigela'}\n",
        "loja_a.remove('faca')\n",
        "print(loja_a)\n",
        "'''\n",
        "esse método remove o elemento caso ele exista, caso não existe ele 'crasha' o\n",
        "código\n",
        "'''"
      ],
      "metadata": {
        "colab": {
          "base_uri": "https://localhost:8080/",
          "height": 193
        },
        "id": "aa0GR0jaiWVC",
        "outputId": "8d0948f9-1f18-48ea-c5f8-249d815cf7fe"
      },
      "execution_count": null,
      "outputs": [
        {
          "output_type": "error",
          "ename": "KeyError",
          "evalue": "'carro'",
          "traceback": [
            "\u001b[0;31m---------------------------------------------------------------------------\u001b[0m",
            "\u001b[0;31mKeyError\u001b[0m                                  Traceback (most recent call last)",
            "\u001b[0;32m<ipython-input-50-695fa26e86da>\u001b[0m in \u001b[0;36m<cell line: 4>\u001b[0;34m()\u001b[0m\n\u001b[1;32m      2\u001b[0m \u001b[0mloja_a\u001b[0m \u001b[0;34m=\u001b[0m \u001b[0;34m{\u001b[0m\u001b[0;34m'garfo'\u001b[0m\u001b[0;34m,\u001b[0m \u001b[0;34m'faca'\u001b[0m\u001b[0;34m,\u001b[0m \u001b[0;34m'caneca'\u001b[0m\u001b[0;34m,\u001b[0m \u001b[0;34m'copo'\u001b[0m\u001b[0;34m}\u001b[0m\u001b[0;34m\u001b[0m\u001b[0;34m\u001b[0m\u001b[0m\n\u001b[1;32m      3\u001b[0m \u001b[0mloja_b\u001b[0m \u001b[0;34m=\u001b[0m \u001b[0;34m{\u001b[0m\u001b[0;34m'copo'\u001b[0m\u001b[0;34m,\u001b[0m \u001b[0;34m'caneca'\u001b[0m\u001b[0;34m,\u001b[0m \u001b[0;34m'taça'\u001b[0m\u001b[0;34m,\u001b[0m \u001b[0;34m'tigela'\u001b[0m\u001b[0;34m}\u001b[0m\u001b[0;34m\u001b[0m\u001b[0;34m\u001b[0m\u001b[0m\n\u001b[0;32m----> 4\u001b[0;31m \u001b[0mloja_a\u001b[0m\u001b[0;34m.\u001b[0m\u001b[0mremove\u001b[0m\u001b[0;34m(\u001b[0m\u001b[0;34m'carro'\u001b[0m\u001b[0;34m)\u001b[0m\u001b[0;34m\u001b[0m\u001b[0;34m\u001b[0m\u001b[0m\n\u001b[0m\u001b[1;32m      5\u001b[0m \u001b[0mprint\u001b[0m\u001b[0;34m(\u001b[0m\u001b[0mloja_a\u001b[0m\u001b[0;34m)\u001b[0m\u001b[0;34m\u001b[0m\u001b[0;34m\u001b[0m\u001b[0m\n",
            "\u001b[0;31mKeyError\u001b[0m: 'carro'"
          ]
        }
      ]
    },
    {
      "cell_type": "code",
      "source": [
        "# Excluíndo elementos de um conjunto pelo método dicard\n",
        "loja_a = {'garfo', 'faca', 'caneca', 'copo'}\n",
        "loja_b = {'copo', 'caneca', 'taça', 'tigela'}\n",
        "loja_a.discard('carro')\n",
        "print(loja_a)"
      ],
      "metadata": {
        "colab": {
          "base_uri": "https://localhost:8080/"
        },
        "id": "2-vFaF7-i0Il",
        "outputId": "f875058c-2eba-40f6-aab6-eb1465a5b5ee"
      },
      "execution_count": null,
      "outputs": [
        {
          "output_type": "stream",
          "name": "stdout",
          "text": [
            "{'garfo', 'faca', 'copo', 'caneca'}\n"
          ]
        }
      ]
    },
    {
      "cell_type": "code",
      "source": [
        "# Excluindo todos os elementos de um conjunto\n",
        "loja_a = {'garfo', 'faca', 'caneca', 'copo'}\n",
        "loja_a.clear()\n",
        "print(loja_a)"
      ],
      "metadata": {
        "colab": {
          "base_uri": "https://localhost:8080/"
        },
        "id": "M-BFAy7OjImT",
        "outputId": "6b32dc4f-035a-47de-d817-61f12cde4c9d"
      },
      "execution_count": null,
      "outputs": [
        {
          "output_type": "stream",
          "name": "stdout",
          "text": [
            "set()\n"
          ]
        }
      ]
    },
    {
      "cell_type": "markdown",
      "source": [
        "# 5 - Estruturas de controle de fluxo"
      ],
      "metadata": {
        "id": "bbPX2bh-mMPQ"
      }
    },
    {
      "cell_type": "markdown",
      "source": [
        "## 5.1 - IF ELIF ELSE"
      ],
      "metadata": {
        "id": "1tOYC_NumRfX"
      }
    },
    {
      "cell_type": "code",
      "source": [
        "'''\n",
        "Imagine que você deseja pedir ao usuário que digite uma nota de 0 a 10\n",
        "e caso a nota seja maior ou igual 6 seja exibida a mensagem: Parabéns você foi\n",
        "aprovado!, caso contrário exiba: Infelizmente você não foi aprovado dessa vez!\n",
        "continue tentando.\n",
        "'''\n",
        "nota = float(input('Informe uma nota de 0 a 10: '))\n",
        "if nota >= 6:\n",
        "  print('Parabéns você foi aprovado!')\n",
        "else:\n",
        "  print('Infelizmente você não foi aprovado dessa vez! continue tentando.')"
      ],
      "metadata": {
        "colab": {
          "base_uri": "https://localhost:8080/"
        },
        "id": "MjvY_ccvmX58",
        "outputId": "af3399cc-b7c4-410c-9caa-4ddcc457669c"
      },
      "execution_count": null,
      "outputs": [
        {
          "output_type": "stream",
          "name": "stdout",
          "text": [
            "Informe uma nota de 0 a 10: 5.99999\n",
            "Infelizmente você não foi aprovado dessa vez! continue tentando.\n"
          ]
        }
      ]
    },
    {
      "cell_type": "code",
      "source": [
        "'''\n",
        "Agora imagine que você tem três possibilidades:\n",
        "1ª Nota maior ou igual a 6: 'Parabéns você foi aprovado!'\n",
        "2ª Nota menor que 6, mas maior ou igual a 4: 'Você deverá fazer uma prova de recuperação'\n",
        "3ª Nota menor que 4:'Infelizmente você não foi aprovado dessa vez! continue tentando.'\n",
        "'''\n",
        "nota = float(input('Informe uma nota de 0 a 10: '))\n",
        "if nota >= 6:\n",
        "  print('Parabéns você foi aprovado!')\n",
        "elif nota >= 4:\n",
        "  print('Você deverá fazer uma prova de recuperação')\n",
        "else:\n",
        "  print('Infelizmente você não foi aprovado dessa vez! continue tentando.')"
      ],
      "metadata": {
        "colab": {
          "base_uri": "https://localhost:8080/"
        },
        "id": "ezSyN1wos0vf",
        "outputId": "61a84f3e-a089-4042-8159-2217b055d037"
      },
      "execution_count": null,
      "outputs": [
        {
          "output_type": "stream",
          "name": "stdout",
          "text": [
            "Informe uma nota de 0 a 10: 3.999\n",
            "Infelizmente você não foi aprovado dessa vez! continue tentando.\n"
          ]
        }
      ]
    },
    {
      "cell_type": "code",
      "source": [
        "'''\n",
        "Agora imagine que você tem quatro possibilidades:\n",
        "1ª Nota maior ou igual a 6: 'Parabéns você foi aprovado!'\n",
        "2ª Nota menor que 6, mas maior ou igual a 4: 'Você deverá fazer uma prova de recuperação online'\n",
        "3ª Nota menor 4, mas maio ou igual a 2: 'Você deverá fazer uma prova de recuperação presencial'\n",
        "4ª Nota menor que 2:'Infelizmente você não foi aprovado dessa vez! continue tentando.'\n",
        "'''\n",
        "nota = float(input('Informe uma nota de 0 a 10: '))\n",
        "if nota >= 6:\n",
        "  print('Parabéns você foi aprovado!')\n",
        "elif nota >= 4:\n",
        "  print('Você deverá fazer uma prova de recuperação online')\n",
        "elif nota >= 2:\n",
        "  print('Você deverá fazer uma prova de recuperação presencial')\n",
        "else:\n",
        "  print('Infelizmente você não foi aprovado dessa vez! continue tentando.')"
      ],
      "metadata": {
        "colab": {
          "base_uri": "https://localhost:8080/"
        },
        "id": "34yjARJcubGF",
        "outputId": "e30f73d1-ad6d-4373-d9c8-01b9ef85d1e7"
      },
      "execution_count": null,
      "outputs": [
        {
          "output_type": "stream",
          "name": "stdout",
          "text": [
            "Informe uma nota de 0 a 10: 1.99\n",
            "Infelizmente você não foi aprovado dessa vez! continue tentando.\n"
          ]
        }
      ]
    },
    {
      "cell_type": "code",
      "source": [
        "'''\n",
        "Igine que no exemplo das notas, você deseja diferenciar a mensagem para o aluno\n",
        "que tirar nota máxima, como por exemplo escrever:\n",
        "Parabéns, você foi aprovado com nota máxima!\n",
        "'''\n",
        "nota = float(input('Informe uma nota de 0 a 10: '))\n",
        "if nota == 10:\n",
        "  print('Parabéns, você foi aprovado com nota máxima!')\n",
        "else:\n",
        "  if nota >= 6:\n",
        "    print('Parabéns você foi aprovado!')\n",
        "  elif nota >= 4:\n",
        "    print('Você deverá fazer uma prova de recuperação online')\n",
        "  elif nota >= 2:\n",
        "    print('Você deverá fazer uma prova de recuperação presencial')\n",
        "  else:\n",
        "    print('Infelizmente você não foi aprovado dessa vez! continue tentando.')"
      ],
      "metadata": {
        "colab": {
          "base_uri": "https://localhost:8080/"
        },
        "id": "UdRY6TZsfVVu",
        "outputId": "3c4ed282-ee09-4cc4-d518-61b5e1a7322b"
      },
      "execution_count": null,
      "outputs": [
        {
          "output_type": "stream",
          "name": "stdout",
          "text": [
            "Informe uma nota de 0 a 10: 1.9\n",
            "Infelizmente você não foi aprovado dessa vez! continue tentando.\n"
          ]
        }
      ]
    },
    {
      "cell_type": "code",
      "source": [
        "'''\n",
        "Igine que no exemplo das notas, você deseja diferenciar a mensagem para o aluno\n",
        "que tirar nota máxima, como por exemplo escrever:\n",
        "Parabéns, você foi aprovado com nota máxima!\n",
        "'''\n",
        "nota = float(input('Informe uma nota de 0 a 10: '))\n",
        "if nota != 10:\n",
        "  if nota >= 6:\n",
        "    print('Parabéns você foi aprovado!')\n",
        "  elif nota >= 4:\n",
        "    print('Você deverá fazer uma prova de recuperação online')\n",
        "  elif nota >= 2:\n",
        "    print('Você deverá fazer uma prova de recuperação presencial')\n",
        "  else:\n",
        "    print('Infelizmente você não foi aprovado dessa vez! continue tentando.')\n",
        "else:\n",
        "  print('Parabéns, você foi aprovado com nota máxima!')"
      ],
      "metadata": {
        "colab": {
          "base_uri": "https://localhost:8080/"
        },
        "id": "rDLf4bsMgS3d",
        "outputId": "4e55d317-ae82-42f2-b760-8a4f12b04ef4"
      },
      "execution_count": null,
      "outputs": [
        {
          "output_type": "stream",
          "name": "stdout",
          "text": [
            "Informe uma nota de 0 a 10: 10\n",
            "Parabéns, você foi aprovado com nota máxima!\n"
          ]
        }
      ]
    },
    {
      "cell_type": "code",
      "source": [
        "'''\n",
        "Imagine que você deseja que um usuário digite dois números quaisquer, e na\n",
        "sequência o programa exibe o maior deles\n",
        "'''\n",
        "a = float(input('Informe um número qualquer: '))\n",
        "b = float(input('Informe outro número qualquer: '))\n",
        "if a == b:\n",
        "  print('Você informou dois números iguais!')\n",
        "else:\n",
        "  if a > b:\n",
        "    print(f'O maior número informado é chamado de \"a\" e é igual a {a}')\n",
        "  else:\n",
        "    print(f'O maior número informado é chamado de \"b\" e é igual a {b}')"
      ],
      "metadata": {
        "colab": {
          "base_uri": "https://localhost:8080/"
        },
        "id": "z_nMZdgmc5ts",
        "outputId": "28bf46ec-b95e-4548-d3bd-0c4197a5cc2b"
      },
      "execution_count": null,
      "outputs": [
        {
          "output_type": "stream",
          "name": "stdout",
          "text": [
            "Informe um número qualquer: 5\n",
            "Informe outro número qualquer: 5\n",
            "Você informou dois números iguais!\n"
          ]
        }
      ]
    },
    {
      "cell_type": "code",
      "source": [
        "'''\n",
        "if comparação for verdadeira:\n",
        "  o que deve ser feito caso o resultado da comparação do if for True\n",
        "else:\n",
        "  o que deve ser feito caso o resultado do if seja False\n",
        "'''"
      ],
      "metadata": {
        "id": "fVrfVQ1kk1Y1"
      },
      "execution_count": null,
      "outputs": []
    },
    {
      "cell_type": "code",
      "source": [
        "'''\n",
        "if comparação for verdadeira:\n",
        "  o que deve ser feito caso o resultado da comparação do if for True\n",
        "elif segunda comparação for verdadeira:\n",
        "  o que deve ser feito caso o resultado da 2ª comparação do if for True\n",
        "else:\n",
        "  o que deve ser feito caso o resultado do if seja False e do elif também seja False\n",
        "'''"
      ],
      "metadata": {
        "id": "x1mnj6mNnBFw"
      },
      "execution_count": null,
      "outputs": []
    },
    {
      "cell_type": "markdown",
      "source": [
        "## 5.2 - Estrutura de repetição - FOR"
      ],
      "metadata": {
        "id": "49f3RC2mq-IQ"
      }
    },
    {
      "cell_type": "code",
      "source": [
        "palavra = 'love' # cria a variável palvra que recebe o texto love\n",
        "for letra in palavra: # declara o seguinte: para cada letra em palavra faça algo:\n",
        "  print(letra) # define o \"algo\" da linha anterior como exiba cada letra"
      ],
      "metadata": {
        "colab": {
          "base_uri": "https://localhost:8080/"
        },
        "id": "yOAoq8WGrPWs",
        "outputId": "261f615d-4aff-4db3-e958-a7fd26b59b53"
      },
      "execution_count": null,
      "outputs": [
        {
          "output_type": "stream",
          "name": "stdout",
          "text": [
            "l\n",
            "o\n",
            "v\n",
            "e\n"
          ]
        }
      ]
    },
    {
      "cell_type": "code",
      "source": [
        "palavra = 'love' # cria a variável palvra que recebe o texto love\n",
        "for a in palavra: # declara o seguinte: para cada letra em palavra faça algo:\n",
        "  print(a) # declara o seguinte: para cada letra em palavra faça algo:"
      ],
      "metadata": {
        "colab": {
          "base_uri": "https://localhost:8080/"
        },
        "id": "3DTFoVGotuse",
        "outputId": "f1eb9918-3944-4a5f-eedc-76e7b944fac4"
      },
      "execution_count": null,
      "outputs": [
        {
          "output_type": "stream",
          "name": "stdout",
          "text": [
            "l\n",
            "o\n",
            "v\n",
            "e\n"
          ]
        }
      ]
    },
    {
      "cell_type": "code",
      "source": [
        "lista = ['a','b','c','d'] # cria uma lista com as letras a,b,c,d\n",
        "for item in lista: # declara que para cada item encontrado na lista faça algo\n",
        "  print(item) # difine o que deve ser feito com cada item encontrado (exibí-lo)"
      ],
      "metadata": {
        "colab": {
          "base_uri": "https://localhost:8080/"
        },
        "id": "pMCHsDU6skHW",
        "outputId": "5200142f-a348-4ec3-cc6a-e074565688a6"
      },
      "execution_count": null,
      "outputs": [
        {
          "output_type": "stream",
          "name": "stdout",
          "text": [
            "a\n",
            "b\n",
            "c\n",
            "d\n"
          ]
        }
      ]
    },
    {
      "cell_type": "code",
      "source": [
        "tupla = (1,2,3,4) # Cria uma tupla com os números 1,2,3,4\n",
        "for numero in tupla: # declara que para cada numero encontrado seja feito algo\n",
        "  print(numero) # Define o que deve ser feito com cada número encontrado"
      ],
      "metadata": {
        "colab": {
          "base_uri": "https://localhost:8080/"
        },
        "id": "1SYe5IA4s3Ov",
        "outputId": "37ec87f1-9b05-48e5-98e6-657d1a5a61ac"
      },
      "execution_count": null,
      "outputs": [
        {
          "output_type": "stream",
          "name": "stdout",
          "text": [
            "1\n",
            "2\n",
            "3\n",
            "4\n"
          ]
        }
      ]
    },
    {
      "cell_type": "code",
      "source": [
        "for i in range(4):# declara que para cada i (índice) encontrado em uma sequencia de qutro números (começando em 0) seja feito algo\n",
        "  print(i) # exiba cada número gerado na sequência declarada anteriormente"
      ],
      "metadata": {
        "colab": {
          "base_uri": "https://localhost:8080/"
        },
        "id": "IeqYkT7wvoo7",
        "outputId": "bff43849-18f8-4635-bd96-7a9a468b8bc2"
      },
      "execution_count": null,
      "outputs": [
        {
          "output_type": "stream",
          "name": "stdout",
          "text": [
            "0\n",
            "1\n",
            "2\n",
            "3\n"
          ]
        }
      ]
    },
    {
      "cell_type": "code",
      "source": [
        "'''\n",
        "crie uma estrutura que percorra uma sequência e imprima os índices dessa sequência\n",
        "'''\n",
        "palavra = 'love'# cria a variável palvra que recebe o texto love\n",
        "for i in range(4):# declara que para cada i (índice) encontrado em uma sequencia de qutro números (começando em 0) seja feito algo\n",
        "  print(palavra[i]) # define que seja exibida cada letra da palavra associada a cada índice gerando na declaração for"
      ],
      "metadata": {
        "colab": {
          "base_uri": "https://localhost:8080/"
        },
        "id": "xVfnMz0muJyR",
        "outputId": "b25e0e44-4668-4ff4-c2f1-7f54181bfd50"
      },
      "execution_count": null,
      "outputs": [
        {
          "output_type": "stream",
          "name": "stdout",
          "text": [
            "l\n",
            "o\n",
            "v\n",
            "e\n"
          ]
        }
      ]
    },
    {
      "cell_type": "code",
      "source": [
        "palavra = 'love'# cria a variável palvra que recebe o texto love\n",
        "for i in range(len(palavra)):# declara que para cada i (índice) encontrado em uma sequencia de n números (começando em 0) seja feito algo\n",
        "  print(palavra[i]) # define que seja exibida cada letra da palavra associada a cada índice gerando na declaração for"
      ],
      "metadata": {
        "colab": {
          "base_uri": "https://localhost:8080/"
        },
        "id": "VF2LdTHlwdgP",
        "outputId": "8f0b1d9c-f94e-4b18-df08-f99247b3876d"
      },
      "execution_count": null,
      "outputs": [
        {
          "output_type": "stream",
          "name": "stdout",
          "text": [
            "l\n",
            "o\n",
            "v\n",
            "e\n"
          ]
        }
      ]
    },
    {
      "cell_type": "code",
      "source": [
        "palavra = 'love' # cria a variável palvra que recebe o texto love\n",
        "for i, v in enumerate(palavra):# declara que para cada i (índice) encontrado em uma sequencia de n números (começando em 0) seja feito algo\n",
        "  print(i,v) # define que seja exibida cada letra da palavra associada a cada índice gerando na declaração for"
      ],
      "metadata": {
        "colab": {
          "base_uri": "https://localhost:8080/"
        },
        "id": "GM0LSYSQwplf",
        "outputId": "66319768-fc7e-4296-eab0-22d70437893c"
      },
      "execution_count": null,
      "outputs": [
        {
          "output_type": "stream",
          "name": "stdout",
          "text": [
            "0 l\n",
            "1 o\n",
            "2 v\n",
            "3 e\n"
          ]
        }
      ]
    },
    {
      "cell_type": "code",
      "source": [
        "cidade = 'botucatu' # cria a variável cidade que recebe o texto botucatu\n",
        "for i in range(1,8,2):# declara que para cada i (índice) encontrado em uma sequencia de n números (começando em 1, parando em 8 e de 2 em 2) seja feito algo\n",
        "  print(cidade[i]) # define que seja exibida cada letra da palavra associada a cada índice gerando na declaração for"
      ],
      "metadata": {
        "colab": {
          "base_uri": "https://localhost:8080/"
        },
        "id": "dfPihzu8yExJ",
        "outputId": "8ddf4af1-d253-47ad-9bcd-4acc2c470956"
      },
      "execution_count": null,
      "outputs": [
        {
          "output_type": "stream",
          "name": "stdout",
          "text": [
            "o\n",
            "u\n",
            "a\n",
            "u\n"
          ]
        }
      ]
    },
    {
      "cell_type": "markdown",
      "source": [
        "### 5.2.1 - Método sum"
      ],
      "metadata": {
        "id": "rqHa9-l2BN85"
      }
    },
    {
      "cell_type": "code",
      "source": [
        "# método sum\n",
        "'''\n",
        "soma os vamlores de uma sequência, caso ela seja numérica\n",
        "exemplo:\n",
        "'''\n",
        "numeros = [1,2,3,4]\n",
        "print(sum(numeros))"
      ],
      "metadata": {
        "colab": {
          "base_uri": "https://localhost:8080/"
        },
        "id": "7KO--UPmAuCx",
        "outputId": "feb80d18-0019-4e12-d8a4-552dd725731c"
      },
      "execution_count": null,
      "outputs": [
        {
          "output_type": "stream",
          "name": "stdout",
          "text": [
            "10\n"
          ]
        }
      ]
    },
    {
      "cell_type": "code",
      "source": [
        "'''\n",
        "Crie um programa que receba do usuário n notas (1 ou mais notas), calcule a\n",
        "média aritmética delas e caso a média seja maior ou igual a 6 exiba a mensagem\n",
        "Parabéns, você foi aprovado, caso a média seja menor que 6 mas maior ou igual a\n",
        "4 exiba a mensagem você está em recuperação, caso a média seja menor que 4 exiba\n",
        "a mensagem  Infelizmente você não foi aprovado e caso a média seja igual a\n",
        "10 exiba a mensagem Parabéns você foi aprovado com nota máxima.\n",
        " Obd.: as n notas digitadas pelo usuário deverão ser informadas em um único input\n",
        " separadas por espaços.\n",
        "'''\n",
        "notas = input('Informe as notas de 0 a 10 separadas por espaços: ')\n",
        "notas = notas.split()\n",
        "for i, v in enumerate(notas):\n",
        "  notas[i] = float(v)\n",
        "media = sum(notas)/len(notas)\n",
        "print(media)\n",
        "if media == 10:\n",
        "  print('Parabéns você foi aprovado com nota máxima!')\n",
        "else:\n",
        "  if media >= 6:\n",
        "    print('Parabéns você foi aprovado!')\n",
        "  elif media >= 4:\n",
        "    print('Você ficou de recuperação!')\n",
        "  else:\n",
        "    print('Infelizmente você não foi aprovado!')"
      ],
      "metadata": {
        "colab": {
          "base_uri": "https://localhost:8080/"
        },
        "id": "oeu2Jo5o49Bg",
        "outputId": "d2176cc7-381f-4e8d-9ef1-a606d485addb"
      },
      "execution_count": null,
      "outputs": [
        {
          "output_type": "stream",
          "name": "stdout",
          "text": [
            "Informe as notas de 0 a 10 separadas por espaços: 6 6 6 6\n",
            "6.0\n",
            "Parabéns você foi aprovado!\n"
          ]
        }
      ]
    },
    {
      "cell_type": "code",
      "source": [
        "'''\n",
        "Alternativa usando o range\n",
        "'''\n",
        "notas = input('Informe as notas de 0 a 10 separadas por espaços: ')\n",
        "notas = notas.split()\n",
        "for i in range(len(notas)):\n",
        "  notas[i] = float(notas[i])\n",
        "media = sum(notas)/len(notas)\n",
        "print(media)\n",
        "if media == 10:\n",
        "  print('Parabéns você foi aprovado com nota máxima!')\n",
        "else:\n",
        "  if media >= 6:\n",
        "    print('Parabéns você foi aprovado!')\n",
        "  elif media >= 4:\n",
        "    print('Você ficou de recuperação!')\n",
        "  else:\n",
        "    print('Infelizmente você não foi aprovado!')"
      ],
      "metadata": {
        "id": "dSRB1xnnGa5E"
      },
      "execution_count": null,
      "outputs": []
    },
    {
      "cell_type": "code",
      "source": [
        "'''\n",
        "Crie uma lista com o nome de idades com os seguintes números 48, 55, 62 77 78 80\n",
        "'''\n",
        "idades = [48,55,62,77,78,80]\n",
        "\n",
        "'''\n",
        "Agora converta cada valor da lista em uma string\n",
        "'''\n",
        "\n",
        "for i in range(len(idades)):\n",
        "  idades[i] = str(idades[i])\n",
        "print(idades)\n",
        "\n",
        "'''\n",
        "alternativa utilizando o enumerate\n",
        "'''\n",
        "for i, v in enumerate(idades):\n",
        "  idades[i] = str(v)\n",
        "print(idades)"
      ],
      "metadata": {
        "colab": {
          "base_uri": "https://localhost:8080/"
        },
        "id": "TioSQkudZuF6",
        "outputId": "09b51c02-9ce0-4ab1-d13d-02cdb1bc894a"
      },
      "execution_count": null,
      "outputs": [
        {
          "output_type": "stream",
          "name": "stdout",
          "text": [
            "['48', '55', '62', '77', '78', '80']\n",
            "['48', '55', '62', '77', '78', '80']\n"
          ]
        }
      ]
    },
    {
      "cell_type": "code",
      "source": [
        "'''\n",
        "Crie uma entrada de dados numéricos (notas de 0 a 10) em um único input onde os\n",
        "valores são informados e separados por espaços, e armazene isso tudo\n",
        "em uma variável chamada nota, a seguir verifique qual tipo de dados\n",
        "está armazenado nessa variável.\n",
        "'''\n",
        "nota = input('Informe as notas de 0 a 10 separadas por espaços: ')\n",
        "print(type(nota))\n",
        "\n",
        "'''\n",
        "Agora separe os valores armazenados em nota utilizando os espaços como\n",
        "separadores e armazene tudo em um objeto chamado notas.\n",
        "'''\n",
        "notas = nota.split()\n",
        "\n",
        "'''\n",
        "Agora converta cada valor do objeto notas em número do tipo float,\n",
        "e na sequência exiba o objeto notas e a soma de todos os valores deste\n",
        "objeto\n",
        "'''\n",
        "\n",
        "for i in range(len(notas)):\n",
        "  notas[i] = float(notas[i])\n",
        "print(sum(notas))\n",
        "\n",
        "# Alternativa usando o enumerate\n",
        "\n",
        "for i, v in enumerate(notas):\n",
        "  notas[i] = float(v)\n",
        "print(sum(notas))\n",
        "\n",
        "'''\n",
        "Agora elabore um código que a partir dos valores da lista notas calcule a\n",
        "média aritmética e exiba o valor dessa média\n",
        "'''\n",
        "\n",
        "media = sum(notas)/len(notas)\n",
        "print(media)\n",
        "\n",
        "'''\n",
        "Agora crie um código que caso a média seja maior ou igual a 6 exiba a mensagem\n",
        "Parabéns, você foi aprovado, caso a média seja menor que 6 mas maior ou igual a\n",
        "4 exiba a mensagem você está em recuperação, caso a média seja menor que 4 exiba\n",
        "a mensagem  Infelizmente você não foi aprovado e caso a média seja igual a\n",
        "10 exiba a mensagem Parabéns você foi aprovado com nota máxima.\n",
        "'''\n",
        "\n",
        "if media == 10:\n",
        "  print('Parabéns você foi aprovado com nota máxima!')\n",
        "else:\n",
        "  if media >= 6:\n",
        "    print('Parabéns você foi aprovado!')\n",
        "  elif media >= 4:\n",
        "    print('Você ficou de recuperação!')\n",
        "  else:\n",
        "    print('Infelizmente você não foi aprovado!')"
      ],
      "metadata": {
        "colab": {
          "base_uri": "https://localhost:8080/"
        },
        "id": "OXNyS2rLdYi1",
        "outputId": "7632ec0d-c1ba-4c55-e7fd-568ae69a9fee"
      },
      "execution_count": null,
      "outputs": [
        {
          "output_type": "stream",
          "name": "stdout",
          "text": [
            "Informe as notas de 0 a 10 separadas por espaços: 10 10 10\n",
            "<class 'str'>\n",
            "30.0\n",
            "30.0\n",
            "10.0\n",
            "Parabéns você foi aprovado com nota máxima!\n"
          ]
        }
      ]
    },
    {
      "cell_type": "markdown",
      "source": [
        "## 5.3 - Laço While"
      ],
      "metadata": {
        "id": "wja0N1LPvDiD"
      }
    },
    {
      "cell_type": "code",
      "source": [
        "'''\n",
        "Imagine que você deseja criar um programa que inicialmente solicite ao usuário\n",
        "uma quantidade de notas que ele deseja informar armazenando-a em uma variável\n",
        "chamada n, e na sequência o programa execute um loop while solicitando nota por\n",
        "nota e armazendando-as em uma lista chamada notas, até que a quantidade de notas\n",
        "nessa lista seja igual a quantidade informada pelo usuário na variável n.\n",
        "'''\n",
        "n = int(input('''Informe um número inteiro que representa a\n",
        "quantidade de notas que deseja informar: '''))\n",
        "c = 0\n",
        "notas = []\n",
        "while c < n:\n",
        "  notas.append(float(input(f'Informe a {c+1}ª nota de 0 a 10: ')))\n",
        "  c += 1\n",
        "print(notas)"
      ],
      "metadata": {
        "id": "XqoYQldCuvQG"
      },
      "execution_count": null,
      "outputs": []
    },
    {
      "cell_type": "code",
      "source": [
        "dadosx = input('Informe os valores de x separados por espaços: ')\n",
        "dadosy = input('''Informe os valores de y separados por espaços\n",
        "(informe a mesma quantidade de dados informados em x): ''')\n",
        "x = dadosx.split()\n",
        "y = dadosy.split()\n",
        "xq = []\n",
        "yq = []\n",
        "xy = []\n",
        "for i in range(len(x)):\n",
        "  x[i] = float(x[i])\n",
        "  y[i] = float(y[i])\n",
        "  xq.append(x[i]**2)\n",
        "  yq.append(y[i]**2)\n",
        "  xy.append(x[i]*y[i])\n",
        "n = len(x)\n",
        "sx = sum(x)\n",
        "sy = sum(y)\n",
        "sxq = sum(xq)\n",
        "syq = sum(yq)\n",
        "sxy = sum(xy)\n",
        "r = (sxy - (sx * sy / n)) / ((sxq - sx**2/n) * (syq - sy**2/n))**(1/2)\n",
        "rq = r**2\n",
        "if rq > 0.5:\n",
        "  if r > 0:\n",
        "    print(f'O coeficiente de correlação é {r:.4f} e indica forte correlação positiva')\n",
        "  else:\n",
        "    print(f'O coeficiente de correlação é {r:.4f} e indica que temos forte correlação negativa')\n",
        "else:\n",
        "  print(f'O coeficiente de correlação é {r:.4f} e indica baixa correlação')"
      ],
      "metadata": {
        "colab": {
          "base_uri": "https://localhost:8080/"
        },
        "id": "2riqqav1KDG5",
        "outputId": "c72d321e-9213-4ece-a53e-3393371f8f9f"
      },
      "execution_count": null,
      "outputs": [
        {
          "output_type": "stream",
          "name": "stdout",
          "text": [
            "Informe os valores de x separados por espaços: 1 2 3 4 5\n",
            "Informe os valores de y separados por espaços \n",
            "(informe a mesma quantidade de dados informados em x): 8 5 4 2 1\n",
            "O coeficiente de correlação é -0.9815 e indica que temos forte correlação negativa\n"
          ]
        }
      ]
    },
    {
      "cell_type": "markdown",
      "source": [
        "## 5.4 - Instrução Break"
      ],
      "metadata": {
        "id": "lT3jCpSPwXx4"
      }
    },
    {
      "cell_type": "code",
      "source": [
        "'''\n",
        "Imagine que você deseja utilizar uma estrutura for combinada com a função range\n",
        "para percorrer e imprimir uma sequência de tamanho 10, ou seja, que como saída\n",
        "tenhamos 10 prints de 10 números diferentes\n",
        "'''\n",
        "for i in range(10):\n",
        "  print(f'O {i+1}º valor é {i}')"
      ],
      "metadata": {
        "colab": {
          "base_uri": "https://localhost:8080/"
        },
        "id": "rIp0RYhbwerr",
        "outputId": "e3d50b18-c638-4931-b361-06e764c4efab"
      },
      "execution_count": null,
      "outputs": [
        {
          "output_type": "stream",
          "name": "stdout",
          "text": [
            "O 1º valor é 0\n",
            "O 2º valor é 1\n",
            "O 3º valor é 2\n",
            "O 4º valor é 3\n",
            "O 5º valor é 4\n",
            "O 6º valor é 5\n",
            "O 7º valor é 6\n",
            "O 8º valor é 7\n",
            "O 9º valor é 8\n",
            "O 10º valor é 9\n"
          ]
        }
      ]
    },
    {
      "cell_type": "code",
      "source": [
        "'''\n",
        "Imagine que na mesma situação do exercício anterior você\n",
        "deseja interromper o ciclo de impressões após o programa ter\n",
        "impresso 5 valores diferentes\n",
        "'''\n",
        "for i in range(10):\n",
        "  if i == 5:\n",
        "    break\n",
        "  print(f'O {i+1}º valor é {i}')"
      ],
      "metadata": {
        "colab": {
          "base_uri": "https://localhost:8080/"
        },
        "id": "-DB5d_EYESlS",
        "outputId": "9edc660e-31e0-46b0-e18c-0a3f21266f6b"
      },
      "execution_count": null,
      "outputs": [
        {
          "output_type": "stream",
          "name": "stdout",
          "text": [
            "O 1º valor é 0\n",
            "O 2º valor é 1\n",
            "O 3º valor é 2\n",
            "O 4º valor é 3\n",
            "O 5º valor é 4\n"
          ]
        }
      ]
    },
    {
      "cell_type": "markdown",
      "source": [
        "## 5.5 - Instrução continue"
      ],
      "metadata": {
        "id": "L38ATSCiMDv-"
      }
    },
    {
      "cell_type": "code",
      "source": [
        "'''\n",
        "Ainda imaginando a situação original, suponha que você deseja imprimir\n",
        "toda a sequencia exceto um determinado valor, por exemplo o 5\n",
        "'''\n",
        "for i in range(10):\n",
        "  if i == 5:\n",
        "    continue\n",
        "  print(f'O {i+1}º valor é {i}')"
      ],
      "metadata": {
        "colab": {
          "base_uri": "https://localhost:8080/"
        },
        "id": "RxiMWVTbGxf5",
        "outputId": "644b5e64-b5e1-46e3-f269-64e1654c187b"
      },
      "execution_count": null,
      "outputs": [
        {
          "output_type": "stream",
          "name": "stdout",
          "text": [
            "O 1º valor é 0\n",
            "O 2º valor é 1\n",
            "O 3º valor é 2\n",
            "O 4º valor é 3\n",
            "O 5º valor é 4\n",
            "O 7º valor é 6\n",
            "O 8º valor é 7\n",
            "O 9º valor é 8\n",
            "O 10º valor é 9\n"
          ]
        }
      ]
    },
    {
      "cell_type": "markdown",
      "source": [
        "## 5.6 - Declaração pass"
      ],
      "metadata": {
        "id": "JyqROEOFMKYc"
      }
    },
    {
      "cell_type": "code",
      "source": [
        "'''\n",
        "Imagine que você deseja que o programa ignore a parada estabelecida pelo if\n",
        "'''\n",
        "for i in range(10):\n",
        "  if i == 5:\n",
        "    pass\n",
        "  print(f'O {i+1}º valor é {i}')"
      ],
      "metadata": {
        "colab": {
          "base_uri": "https://localhost:8080/"
        },
        "id": "vbwF7D8HHug6",
        "outputId": "753c147a-10c1-440e-ea99-53668db00496"
      },
      "execution_count": null,
      "outputs": [
        {
          "output_type": "stream",
          "name": "stdout",
          "text": [
            "O 1º valor é 0\n",
            "O 2º valor é 1\n",
            "O 3º valor é 2\n",
            "O 4º valor é 3\n",
            "O 5º valor é 4\n",
            "O 6º valor é 5\n",
            "O 7º valor é 6\n",
            "O 8º valor é 7\n",
            "O 9º valor é 8\n",
            "O 10º valor é 9\n"
          ]
        }
      ]
    },
    {
      "cell_type": "markdown",
      "source": [
        "## 5.7 - while True"
      ],
      "metadata": {
        "id": "uO4kp191MA56"
      }
    },
    {
      "cell_type": "code",
      "source": [
        "'''\n",
        "Imagine que você deseja criar um programa que receba do usuário um número\n",
        "inteiro que defina quantas vezes será impressa a expressão \"olá mundo!\" e depois\n",
        "imprima essa expressão exatamente na quantidade informada pelo usuário\n",
        "'''"
      ],
      "metadata": {
        "id": "0-0OV1BTNHfX"
      },
      "execution_count": null,
      "outputs": []
    },
    {
      "cell_type": "code",
      "source": [
        "# Solução 01\n",
        "n = int(input('Informe quantas vezes você deseja ver a mensagem olá mundo: '))\n",
        "c = 0\n",
        "while c < n:\n",
        "  print('Olá Mundo!')\n",
        "  c += 1"
      ],
      "metadata": {
        "colab": {
          "base_uri": "https://localhost:8080/"
        },
        "id": "n2-_M0TVNmyo",
        "outputId": "a52fe0e9-8759-438f-8a27-dbca435d76b4"
      },
      "execution_count": null,
      "outputs": [
        {
          "output_type": "stream",
          "name": "stdout",
          "text": [
            "Informe quantas vezes você deseja ver a mensagem olá mundo: 4\n",
            "Olá Mundo!\n",
            "Olá Mundo!\n",
            "Olá Mundo!\n",
            "Olá Mundo!\n"
          ]
        }
      ]
    },
    {
      "cell_type": "code",
      "source": [
        "# Solução 02 usando while True\n",
        "n = int(input('Informe quantas vezes você deseja ver a mensagem olá mundo: '))\n",
        "c = 0\n",
        "while True:\n",
        "  if c < n:\n",
        "    print('Olá Mundo!')\n",
        "    c += 1\n",
        "  else:\n",
        "    break"
      ],
      "metadata": {
        "colab": {
          "base_uri": "https://localhost:8080/"
        },
        "id": "lFZl9eAsRWLV",
        "outputId": "943f24f7-172a-49e4-a9ca-d551f27d8b1a"
      },
      "execution_count": null,
      "outputs": [
        {
          "output_type": "stream",
          "name": "stdout",
          "text": [
            "Informe quantas vezes você deseja ver a mensagem olá mundo: 3\n",
            "Olá Mundo!\n",
            "Olá Mundo!\n",
            "Olá Mundo!\n"
          ]
        }
      ]
    },
    {
      "cell_type": "code",
      "source": [
        "'''\n",
        "O while True é uma estrutura mais flexível que o while pois não traz a condição\n",
        "na própria lina de declaração while, permitindo assim, que você faça várias\n",
        "outras condições aninhadas logo abaixo da declaração while True.\n",
        "'''"
      ],
      "metadata": {
        "id": "LQ6htQGdVVCt"
      },
      "execution_count": null,
      "outputs": []
    },
    {
      "cell_type": "code",
      "source": [
        "# Exercício\n",
        "'''\n",
        "Elabore um programa que que receba um número inteiro e positivo do usuário e\n",
        "verifique se o número informado é par ou ímpar, se for par imprima uma mensagem\n",
        "dizendo que o número é par e encerre o loop, caso seja ímpar exiba uma mensagem\n",
        "informando que o número não é par e peça para o usuário digitar outro número,\n",
        "até que o número digitado pelo usuário seja par.\n",
        "'''\n",
        "\n",
        "while True:\n",
        "  n = int(input('Informe um número par inteiro e positivo: '))\n",
        "  if n % 2 == 0:\n",
        "    print(f'O número {n} é um número par! Parabéns!')\n",
        "    break\n",
        "  else:\n",
        "    print(f'O número {n} não é um número par, favor informe um número par')"
      ],
      "metadata": {
        "colab": {
          "base_uri": "https://localhost:8080/"
        },
        "id": "SnuFcgz0V_BF",
        "outputId": "0b79e8bd-b8cd-4258-f1a9-80aa48eae2b2"
      },
      "execution_count": null,
      "outputs": [
        {
          "output_type": "stream",
          "name": "stdout",
          "text": [
            "Informe um número par inteiro e positivo: 3\n",
            "O número 3 não é um número par, favor informe um número par\n",
            "Informe um número par inteiro e positivo: 7\n",
            "O número 7 não é um número par, favor informe um número par\n",
            "Informe um número par inteiro e positivo: 4\n",
            "O número 4 é um número par! Parabéns!\n"
          ]
        }
      ]
    },
    {
      "cell_type": "markdown",
      "source": [
        "## 5.8 - Tratamento de erros (TRY e EXCEPT)"
      ],
      "metadata": {
        "id": "Ttjt-n9C485S"
      }
    },
    {
      "cell_type": "code",
      "source": [
        "'''\n",
        "Elabore um programa que receba do usuário um número qualquer e exiba a mensagem:\n",
        "Parabéns você digitou um número!\n",
        "'''"
      ],
      "metadata": {
        "id": "1TqYRcA76U6S"
      },
      "execution_count": null,
      "outputs": []
    },
    {
      "cell_type": "code",
      "source": [
        "while True:\n",
        "  try:\n",
        "    n = float(input('Informe um número qualquer: '))\n",
        "    print('Parabéns você digitou um número!')\n",
        "    break\n",
        "  except:\n",
        "    print('o valor informado não é um número')"
      ],
      "metadata": {
        "colab": {
          "base_uri": "https://localhost:8080/"
        },
        "id": "j1YaLEkb6nQM",
        "outputId": "713efc7f-5f11-43fe-f4d9-50f6d96ab53d"
      },
      "execution_count": null,
      "outputs": [
        {
          "output_type": "stream",
          "name": "stdout",
          "text": [
            "Informe um número qualquer: 7,3\n",
            "o valor informado não é um número\n",
            "Informe um número qualquer: 4\n",
            "Parabéns você digitou um número!\n"
          ]
        }
      ]
    },
    {
      "cell_type": "code",
      "source": [
        "'''\n",
        "Imagine que você tem uma lista com seis nomes de pessoas e outra com seis idades\n",
        "Suponha que a posição de cada nome em sua lista corresponde a mesma posição\n",
        "da sua idade na lista idades. Elabore um código que percorra as duas listas,\n",
        "verifique se a pessoa é maior ou menor de idade (18 anos) e exiba uma mensagem\n",
        "com cada nome, sua idade e um texto informando se essa pessoa é maior ou menor\n",
        "de idade.\n",
        "'''\n",
        "nomes = ['Douglas','Daniela','Pedro','Maria','Eduardo','Ester']\n",
        "idades = [48, 9, 70, 70, 44, 37]\n",
        "for i in range(len(nomes)):\n",
        "  if idades[i] >= 18:\n",
        "    print('*'*50)\n",
        "    print(f'{nomes[i]} tem {idades[i]} anos e é maior de idade')\n",
        "    print('*'*50)\n",
        "  else:\n",
        "    print('*'*50)\n",
        "    print(f'{nomes[i]} tem {idades[i]} anos e é menor de idade')\n",
        "    print('*'*50)"
      ],
      "metadata": {
        "colab": {
          "base_uri": "https://localhost:8080/"
        },
        "id": "V_-3idsp-oNW",
        "outputId": "20536c5a-ab20-4009-f2fc-167f156fc40c"
      },
      "execution_count": null,
      "outputs": [
        {
          "output_type": "stream",
          "name": "stdout",
          "text": [
            "**************************************************\n",
            "Douglas tem 48 anos e é maior de idade\n",
            "**************************************************\n",
            "**************************************************\n",
            "Daniela tem 9 anos e é menor de idade\n",
            "**************************************************\n",
            "**************************************************\n",
            "Pedro tem 70 anos e é maior de idade\n",
            "**************************************************\n",
            "**************************************************\n",
            "Maria tem 70 anos e é maior de idade\n",
            "**************************************************\n",
            "**************************************************\n",
            "Eduardo tem 44 anos e é maior de idade\n",
            "**************************************************\n",
            "**************************************************\n",
            "Ester tem 37 anos e é maior de idade\n",
            "**************************************************\n"
          ]
        }
      ]
    },
    {
      "cell_type": "code",
      "source": [
        "'''\n",
        "Imagine que você tem uma lista com seis nomes de pessoas e outra com seis idades\n",
        "Suponha que a posição de cada nome em sua lista corresponde a mesma posição\n",
        "da sua idade na lista idades. Elabore um código que percorra as duas listas,\n",
        "verifique se a pessoa é maior ou menor de idade (18 anos) e exiba uma mensagem\n",
        "com cada nome, sua idade e um texto informando se essa pessoa é maior ou menor\n",
        "de idade.\n",
        "'''\n",
        "nomes = ['Douglas','Daniela','Pedro','Maria','Eduardo','Ester']\n",
        "idades = [48, 9, 70, 70, 44, 37]\n",
        "for i,v in enumerate(idades):\n",
        "  if idades[i] >= 18:\n",
        "    print('*'*50)\n",
        "    print(f'{nomes[i]} tem {v} anos e é maior de idade')\n",
        "    print('*'*50)\n",
        "  else:\n",
        "    print('*'*50)\n",
        "    print(f'{nomes[i]} tem {v} anos e é menor de idade')\n",
        "    print('*'*50)"
      ],
      "metadata": {
        "colab": {
          "base_uri": "https://localhost:8080/"
        },
        "id": "trM_yWI2EwKJ",
        "outputId": "2e24021b-54cf-4ee3-a07c-131f4425c6e4"
      },
      "execution_count": null,
      "outputs": [
        {
          "output_type": "stream",
          "name": "stdout",
          "text": [
            "**************************************************\n",
            "Douglas tem 48 anos e é maior de idade\n",
            "**************************************************\n",
            "**************************************************\n",
            "Daniela tem 9 anos e é menor de idade\n",
            "**************************************************\n",
            "**************************************************\n",
            "Pedro tem 70 anos e é maior de idade\n",
            "**************************************************\n",
            "**************************************************\n",
            "Maria tem 70 anos e é maior de idade\n",
            "**************************************************\n",
            "**************************************************\n",
            "Eduardo tem 44 anos e é maior de idade\n",
            "**************************************************\n",
            "**************************************************\n",
            "Ester tem 37 anos e é maior de idade\n",
            "**************************************************\n"
          ]
        }
      ]
    },
    {
      "cell_type": "code",
      "source": [
        "'''\n",
        "Imagine que você deseja criar um programa que receba do usuário o valor de um\n",
        "determinado produto e a informação se esse produto é nacional ou importado e\n",
        "retorne para o usuário o valor do imposto a pagar. Considere que se o produto\n",
        "for nacional a alíquota de imposto é de 18% para valores até R$ 200,00 e 25%\n",
        "para valores acima de R$ 200,00. Agora se o produto for importado é isento para\n",
        "valores até R$ 200,00 e pagará 35% para valores acima de R$ 200,00.\n",
        "'''"
      ],
      "metadata": {
        "id": "0ltU0PAAFgx2"
      },
      "execution_count": null,
      "outputs": []
    },
    {
      "cell_type": "code",
      "source": [
        "while True:\n",
        "  try:\n",
        "    valor = float(input('Informe o valor do produto em R$ '))\n",
        "    break\n",
        "  except:\n",
        "    print('valor inválido')\n",
        "nac = input('O produto é nacional? 1 para sim ou 2 para não: ')\n",
        "if nac == '1':\n",
        "  if valor <= 200:\n",
        "    imposto = valor * 0.18\n",
        "  else:\n",
        "    imposto = valor * 0.25\n",
        "else:\n",
        "  if valor > 200:\n",
        "    imposto = valor * 0.35\n",
        "  else:\n",
        "    imposto = 0\n",
        "print(f'O valor do imposto é R$ {imposto:.2f}')"
      ],
      "metadata": {
        "colab": {
          "base_uri": "https://localhost:8080/"
        },
        "id": "moVreERNF2Bl",
        "outputId": "120d6b26-5fb2-462b-809a-8c32896471de"
      },
      "execution_count": null,
      "outputs": [
        {
          "output_type": "stream",
          "name": "stdout",
          "text": [
            "Informe o valor do produto em R$ a\n",
            "valor inválido\n",
            "Informe o valor do produto em R$ 5\n",
            "O produto é nacional? 1 para sim ou 2 para não: 1\n",
            "O valor do imposto é R$ 0.90\n"
          ]
        }
      ]
    },
    {
      "cell_type": "code",
      "source": [
        "'''\n",
        "Elabore um programa que receba do usuários duas sequencias de números separados\n",
        "por espaços com igual quantidade sendo uma sequência em um único input e outra\n",
        "sequência em outro input único\n",
        "'''\n",
        "dadosx = input('Informe uma sequência de números separados por espaços: ')\n",
        "dadosy = input('''Informe outra sequência de números separados por espaços com a\n",
        "mesma quantidade informada na primeira: ''')\n",
        "\n",
        "'''\n",
        "Agora separe cada sequência em uma lista, exemplo: dadosx separado em uma lista\n",
        "camada x e dadosy em uma lista chamada y\n",
        "'''\n",
        "x = dadosx.split()\n",
        "y = dadosy.split()\n",
        "\n",
        "'''\n",
        "percorra cada uma das listas criadas e para cada valor encontrado converta-o em\n",
        "um tipo float\n",
        "'''\n",
        "for i in range(len(x)):\n",
        "  x[i] = float(x[i])\n",
        "for i in range(len(y)):\n",
        "  y[i] = float(y[i])\n",
        "\n",
        "'''\n",
        "Agora crie três listas vazias, sendo xq, yq e xy e as preencha da sequinte forma:\n",
        "\n",
        "1 - xq: percorra a lista de x e para cada valor encontrado o eleve ao\n",
        "quadrado e guarde-o na lista xq\n",
        "\n",
        "2 - yq: percorra a lista de y e para cada valor encontrado o eleve ao\n",
        "quadrado e guarde-o na lista yq\n",
        "\n",
        "3 - xy:  percorra a lista de x e a de y e multiplique cada valor de x pelo\n",
        "seu valor de y correspondente e guarde os resultados na lista xy\n",
        "'''\n",
        "xq = []\n",
        "yq = []\n",
        "xy = []\n",
        "for i in range(len(x)):\n",
        "  xq.append(x[i]**2)\n",
        "for i in range(len(y)):\n",
        "  yq.append(y[i]**2)\n",
        "for i in range(len(x)):\n",
        "  xy.append(x[i]*y[i])\n",
        "'''\n",
        "Agora vamos criar uma variável que armazena o resultado da lista, sendo:\n",
        "sx = soma dos valores da lista x\n",
        "sy = soma dos valores da lista y\n",
        "sxq = soma dos valores da lista xq\n",
        "syq = soma dos valores da lista yq\n",
        "sxy = soma dos valores da lista xy\n",
        "n = a quantidade de elementos de um das listas\n",
        "mediax = a média da lista x\n",
        "mediay = a média da lista y\n",
        "'''\n",
        "sx = sum(x)\n",
        "sy = sum(y)\n",
        "sxq = sum(xq)\n",
        "syq = sum(yq)\n",
        "sxy = sum(xy)\n",
        "n = len(x)\n",
        "mediax = sx/n\n",
        "mediay = sy/n\n",
        "\n",
        "beta = (sxy - (sx * sy /n)) / (sxq - sx**2 / n)\n",
        "a = mediay - beta * mediax\n",
        "print(f'A equação da reta de regressão linear simples é Y = {a:.1f} + {beta:.1f} * x')"
      ],
      "metadata": {
        "colab": {
          "base_uri": "https://localhost:8080/"
        },
        "id": "_dWylkqkWFTJ",
        "outputId": "08105675-19d0-4a29-e9f7-599347688558"
      },
      "execution_count": null,
      "outputs": [
        {
          "output_type": "stream",
          "name": "stdout",
          "text": [
            "Informe uma sequência de números separados por espaços: 1 2 3 4 5\n",
            "Informe outra sequência de números separados por espaços com a \n",
            "mesma quantidade informada na primeira: 1 2 4 5 8\n",
            "A equação da reta de regressão linear simples é Y = -1.1 + 1.7 * x\n"
          ]
        }
      ]
    }
  ]
}